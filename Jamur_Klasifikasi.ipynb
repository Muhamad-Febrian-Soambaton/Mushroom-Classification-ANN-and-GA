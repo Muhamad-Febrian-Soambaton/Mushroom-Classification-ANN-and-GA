{
  "nbformat": 4,
  "nbformat_minor": 0,
  "metadata": {
    "orig_nbformat": 4,
    "colab": {
      "provenance": []
    },
    "language_info": {
      "name": "python"
    },
    "kernelspec": {
      "name": "python3",
      "display_name": "Python 3"
    }
  },
  "cells": [
    {
      "cell_type": "markdown",
      "metadata": {
        "id": "8x3CeSXSPh-0"
      },
      "source": [
        "#Klasifikasi Jamur Menggunakan Genetic Algorithm dan ANN\n",
        "\n",
        "- Muhamad Febrian Soambaton\n",
        "- Wildan\n",
        "- Amal\n",
        "- Raihan\n"
      ]
    },
    {
      "cell_type": "markdown",
      "metadata": {
        "id": "NFaRrjO1RhHU"
      },
      "source": [
        "##Import Library, dataset, dan fungsi-fungsi:"
      ]
    },
    {
      "cell_type": "markdown",
      "metadata": {
        "id": "vQxK3CqaR6XK"
      },
      "source": [
        "###Library:"
      ]
    },
    {
      "cell_type": "code",
      "metadata": {
        "id": "ZiSITPWE-lgW"
      },
      "source": [
        "ilotlib.pyplot as plt\n",
        "import warnings\n",
        "import randommport pandas as pd\n",
        "import numpy as np\n",
        "import seaborn as sns\n",
        "import matp\n",
        "\n",
        "from tqdm import tqdm\n",
        "from sklearn.preprocessing import LabelEncoder\n",
        "from sklearn.model_selection import train_test_split\n",
        "from sklearn.metrics import confusion_matrix, classification_report\n",
        "from google.colab import files, drive\n",
        "\n",
        "warnings.filterwarnings('ignore')\n",
        "np.random.seed(69420)\n",
        "random.seed(69420)"
      ],
      "execution_count": 1,
      "outputs": []
    },
    {
      "cell_type": "markdown",
      "metadata": {
        "id": "ftemv4UaR0M8"
      },
      "source": [
        "###Memasukkan Dataset:"
      ]
    },
    {
      "cell_type": "code",
      "metadata": {
        "id": "LRdvCBSwgzKA"
      },
      "source": [
        "#Jika mengupload file dari local\n",
        "files.upload()"
      ],
      "execution_count": null,
      "outputs": []
    },
    {
      "cell_type": "code",
      "metadata": {
        "id": "P4joO7yx-6Ut",
        "colab": {
          "base_uri": "https://localhost:8080/",
          "height": 0
        },
        "outputId": "b0a9eee1-8f25-43e7-ebec-6132d0bad7f3"
      },
      "source": [
        "#Jika file ada di google drive (dataset disimpan pada direktori \"Semester 6/Sisdas/data/mushrooms.csv\")\n",
        "drive.mount('/content/drive')"
      ],
      "execution_count": 3,
      "outputs": [
        {
          "output_type": "stream",
          "name": "stdout",
          "text": [
            "Mounted at /content/drive\n"
          ]
        }
      ]
    },
    {
      "cell_type": "markdown",
      "metadata": {
        "id": "yeyVw1MsSJdT"
      },
      "source": [
        "###Fungsi-Fungsi:"
      ]
    },
    {
      "cell_type": "code",
      "metadata": {
        "id": "vdbEWi5Z-lgg"
      },
      "source": [
        "########################\n",
        "\n",
        "def sigmoid(x):\n",
        "    return 1/(1 + np.exp(-x))\n",
        "\n",
        "def forward(x, w, activation):\n",
        "    return activation(np.matmul(x, w))\n",
        "\n",
        "def accuracy_fn(y, y_hat):\n",
        "    return (np.where(y == y_hat)[0].size / y_hat.size)\n",
        "\n",
        "def predict(x, y_hat, weights, activation):\n",
        "    predictions = np.zeros(shape=(x.shape[0]))\n",
        "\n",
        "    for idx in range(x.shape[0]):\n",
        "        r1 = x[idx, :]\n",
        "        for curr_weights in weights:\n",
        "            r1 = forward(r1, curr_weights, activation)\n",
        "        predictions[idx] = np.where(r1 == np.max(r1))[0][0]\n",
        "\n",
        "    accuracy = accuracy_fn(predictions, y_hat)\n",
        "    return accuracy, predictions\n",
        "\n",
        "def fitness(x, y_hat, weights, activation):\n",
        "    accuracy = np.empty(shape=(weights.shape[0]))\n",
        "    for idx in range(weights.shape[0]):\n",
        "        accuracy[idx], _ = predict(x, y_hat, weights[idx, :], activation)\n",
        "    return accuracy\n",
        "\n",
        "def mat_to_vector(mat_pop_weights):\n",
        "    weights_vector = []\n",
        "    for idx in range(mat_pop_weights.shape[0]):\n",
        "        curr_vector = []\n",
        "        for layer_idx in range(mat_pop_weights.shape[1]):\n",
        "            vector_weights = np.reshape(mat_pop_weights[idx, layer_idx], newshape=(mat_pop_weights[idx, layer_idx].size))\n",
        "            curr_vector.extend(vector_weights)\n",
        "        weights_vector.append(curr_vector)\n",
        "    return np.array(weights_vector)\n",
        "\n",
        "\n",
        "def vector_to_mat(vector_weights, mat_pop_weights):\n",
        "    mat_weights = []\n",
        "    for idx in range(mat_pop_weights.shape[0]):\n",
        "        start = 0\n",
        "        end = 0\n",
        "        for layer_idx in range(mat_pop_weights.shape[1]):\n",
        "            end = end + mat_pop_weights[idx, layer_idx].size\n",
        "            curr_vector = vector_weights[idx, start:end]\n",
        "            mat_layer_weights = np.reshape(curr_vector, newshape=(mat_pop_weights[idx, layer_idx].shape))\n",
        "            mat_weights.append(mat_layer_weights)\n",
        "            start = end\n",
        "    return np.reshape(mat_weights, newshape=mat_pop_weights.shape)\n",
        "\n",
        "def mating_pool(pop, fitness, num_parents):\n",
        "    print(\"pop shape\")\n",
        "    print(pop.shape)\n",
        "    parents = np.empty((num_parents, pop.shape[1]))\n",
        "    for parent_num in range(num_parents):\n",
        "        max_fitness_idx = np.where(fitness == np.max(fitness))\n",
        "        max_fitness_idx = max_fitness_idx[0][0]\n",
        "        parents[parent_num, :] = pop[max_fitness_idx, :]\n",
        "        fitness[max_fitness_idx] = -99\n",
        "    return parents\n",
        "\n",
        "def crossover(parents, offspring_size):\n",
        "    offspring = np.empty(offspring_size)\n",
        "    crossover_point = np.uint32(offspring_size[1]/2)\n",
        "\n",
        "    print(\"looping berapa kali\")\n",
        "    print(offspring_size[0])\n",
        "\n",
        "    print(\"parent shape\")\n",
        "    print(parents.shape)\n",
        "\n",
        "    for k in range(offspring_size[0]):\n",
        "        # 0, 1 | 1, 2 | 2, 3 | 3, 0\n",
        "\n",
        "        parent1_idx = k%parents.shape[0]\n",
        "        parent2_idx = (k+1)%parents.shape[0]\n",
        "\n",
        "        offspring[k, 0:crossover_point] = parents[parent1_idx, 0:crossover_point]\n",
        "        offspring[k, crossover_point:] = parents[parent2_idx, crossover_point:]\n",
        "\n",
        "    return offspring\n",
        "\n",
        "\n",
        "def mutation(offspring_crossover, mutation_percent):\n",
        "    num_mutations = np.uint32((mutation_percent*offspring_crossover.shape[1]))\n",
        "    mutation_indices = np.array(random.sample(range(0, offspring_crossover.shape[1]), num_mutations))\n",
        "\n",
        "    for idx in range(offspring_crossover.shape[0]):\n",
        "        random_value = np.random.uniform(-1.0, 1.0, 1) # kenapa uniform ? biar ga dapet nilai pengurangan/penjumlahan yang besar\n",
        "        offspring_crossover[idx, mutation_indices] = offspring_crossover[idx, mutation_indices] + random_value\n",
        "\n",
        "    return offspring_crossover\n",
        "\n",
        "##############################"
      ],
      "execution_count": 4,
      "outputs": []
    },
    {
      "cell_type": "code",
      "metadata": {
        "colab": {
          "base_uri": "https://localhost:8080/",
          "height": 0
        },
        "id": "OQpURd0cqLSA",
        "outputId": "03fbdb5c-2a1a-42a3-c74e-fb2f058e85cc"
      },
      "source": [
        "np.random.uniform(-1.0, 1.0, 1)"
      ],
      "execution_count": 5,
      "outputs": [
        {
          "output_type": "execute_result",
          "data": {
            "text/plain": [
              "array([0.06218448])"
            ]
          },
          "metadata": {},
          "execution_count": 5
        }
      ]
    },
    {
      "cell_type": "markdown",
      "metadata": {
        "id": "qtPfPutZSRZ6"
      },
      "source": [
        "###Membaca dataset:"
      ]
    },
    {
      "cell_type": "code",
      "metadata": {
        "id": "ENmxY6G_hIen",
        "colab": {
          "base_uri": "https://localhost:8080/",
          "height": 308
        },
        "outputId": "843443dd-03b4-4421-bd91-e1e77e9d7e33"
      },
      "source": [
        "#Jika file diuload dari local\n",
        "df = pd.read_csv('/content/Mushroom.csv', na_values=\"?\")\n",
        "df.head()"
      ],
      "execution_count": 6,
      "outputs": [
        {
          "output_type": "execute_result",
          "data": {
            "text/plain": [
              "  class cap-shape cap-surface cap-color bruises odor gill-attachment  \\\n",
              "0     p         x           s         n       t    p               f   \n",
              "1     e         x           s         y       t    a               f   \n",
              "2     e         b           s         w       t    l               f   \n",
              "3     p         x           y         w       t    p               f   \n",
              "4     e         x           s         g       f    n               f   \n",
              "\n",
              "  gill-spacing gill-size gill-color  ... stalk-surface-below-ring  \\\n",
              "0            c         n          k  ...                        s   \n",
              "1            c         b          k  ...                        s   \n",
              "2            c         b          n  ...                        s   \n",
              "3            c         n          n  ...                        s   \n",
              "4            w         b          k  ...                        s   \n",
              "\n",
              "  stalk-color-above-ring stalk-color-below-ring veil-type veil-color  \\\n",
              "0                      w                      w         p          w   \n",
              "1                      w                      w         p          w   \n",
              "2                      w                      w         p          w   \n",
              "3                      w                      w         p          w   \n",
              "4                      w                      w         p          w   \n",
              "\n",
              "  ring-number ring-type spore-print-color population habitat  \n",
              "0           o         p                 k          s       u  \n",
              "1           o         p                 n          n       g  \n",
              "2           o         p                 n          n       m  \n",
              "3           o         p                 k          s       u  \n",
              "4           o         e                 n          a       g  \n",
              "\n",
              "[5 rows x 23 columns]"
            ],
            "text/html": [
              "\n",
              "  <div id=\"df-9e56fd3c-1c14-4436-bb15-3937a63098dc\" class=\"colab-df-container\">\n",
              "    <div>\n",
              "<style scoped>\n",
              "    .dataframe tbody tr th:only-of-type {\n",
              "        vertical-align: middle;\n",
              "    }\n",
              "\n",
              "    .dataframe tbody tr th {\n",
              "        vertical-align: top;\n",
              "    }\n",
              "\n",
              "    .dataframe thead th {\n",
              "        text-align: right;\n",
              "    }\n",
              "</style>\n",
              "<table border=\"1\" class=\"dataframe\">\n",
              "  <thead>\n",
              "    <tr style=\"text-align: right;\">\n",
              "      <th></th>\n",
              "      <th>class</th>\n",
              "      <th>cap-shape</th>\n",
              "      <th>cap-surface</th>\n",
              "      <th>cap-color</th>\n",
              "      <th>bruises</th>\n",
              "      <th>odor</th>\n",
              "      <th>gill-attachment</th>\n",
              "      <th>gill-spacing</th>\n",
              "      <th>gill-size</th>\n",
              "      <th>gill-color</th>\n",
              "      <th>...</th>\n",
              "      <th>stalk-surface-below-ring</th>\n",
              "      <th>stalk-color-above-ring</th>\n",
              "      <th>stalk-color-below-ring</th>\n",
              "      <th>veil-type</th>\n",
              "      <th>veil-color</th>\n",
              "      <th>ring-number</th>\n",
              "      <th>ring-type</th>\n",
              "      <th>spore-print-color</th>\n",
              "      <th>population</th>\n",
              "      <th>habitat</th>\n",
              "    </tr>\n",
              "  </thead>\n",
              "  <tbody>\n",
              "    <tr>\n",
              "      <th>0</th>\n",
              "      <td>p</td>\n",
              "      <td>x</td>\n",
              "      <td>s</td>\n",
              "      <td>n</td>\n",
              "      <td>t</td>\n",
              "      <td>p</td>\n",
              "      <td>f</td>\n",
              "      <td>c</td>\n",
              "      <td>n</td>\n",
              "      <td>k</td>\n",
              "      <td>...</td>\n",
              "      <td>s</td>\n",
              "      <td>w</td>\n",
              "      <td>w</td>\n",
              "      <td>p</td>\n",
              "      <td>w</td>\n",
              "      <td>o</td>\n",
              "      <td>p</td>\n",
              "      <td>k</td>\n",
              "      <td>s</td>\n",
              "      <td>u</td>\n",
              "    </tr>\n",
              "    <tr>\n",
              "      <th>1</th>\n",
              "      <td>e</td>\n",
              "      <td>x</td>\n",
              "      <td>s</td>\n",
              "      <td>y</td>\n",
              "      <td>t</td>\n",
              "      <td>a</td>\n",
              "      <td>f</td>\n",
              "      <td>c</td>\n",
              "      <td>b</td>\n",
              "      <td>k</td>\n",
              "      <td>...</td>\n",
              "      <td>s</td>\n",
              "      <td>w</td>\n",
              "      <td>w</td>\n",
              "      <td>p</td>\n",
              "      <td>w</td>\n",
              "      <td>o</td>\n",
              "      <td>p</td>\n",
              "      <td>n</td>\n",
              "      <td>n</td>\n",
              "      <td>g</td>\n",
              "    </tr>\n",
              "    <tr>\n",
              "      <th>2</th>\n",
              "      <td>e</td>\n",
              "      <td>b</td>\n",
              "      <td>s</td>\n",
              "      <td>w</td>\n",
              "      <td>t</td>\n",
              "      <td>l</td>\n",
              "      <td>f</td>\n",
              "      <td>c</td>\n",
              "      <td>b</td>\n",
              "      <td>n</td>\n",
              "      <td>...</td>\n",
              "      <td>s</td>\n",
              "      <td>w</td>\n",
              "      <td>w</td>\n",
              "      <td>p</td>\n",
              "      <td>w</td>\n",
              "      <td>o</td>\n",
              "      <td>p</td>\n",
              "      <td>n</td>\n",
              "      <td>n</td>\n",
              "      <td>m</td>\n",
              "    </tr>\n",
              "    <tr>\n",
              "      <th>3</th>\n",
              "      <td>p</td>\n",
              "      <td>x</td>\n",
              "      <td>y</td>\n",
              "      <td>w</td>\n",
              "      <td>t</td>\n",
              "      <td>p</td>\n",
              "      <td>f</td>\n",
              "      <td>c</td>\n",
              "      <td>n</td>\n",
              "      <td>n</td>\n",
              "      <td>...</td>\n",
              "      <td>s</td>\n",
              "      <td>w</td>\n",
              "      <td>w</td>\n",
              "      <td>p</td>\n",
              "      <td>w</td>\n",
              "      <td>o</td>\n",
              "      <td>p</td>\n",
              "      <td>k</td>\n",
              "      <td>s</td>\n",
              "      <td>u</td>\n",
              "    </tr>\n",
              "    <tr>\n",
              "      <th>4</th>\n",
              "      <td>e</td>\n",
              "      <td>x</td>\n",
              "      <td>s</td>\n",
              "      <td>g</td>\n",
              "      <td>f</td>\n",
              "      <td>n</td>\n",
              "      <td>f</td>\n",
              "      <td>w</td>\n",
              "      <td>b</td>\n",
              "      <td>k</td>\n",
              "      <td>...</td>\n",
              "      <td>s</td>\n",
              "      <td>w</td>\n",
              "      <td>w</td>\n",
              "      <td>p</td>\n",
              "      <td>w</td>\n",
              "      <td>o</td>\n",
              "      <td>e</td>\n",
              "      <td>n</td>\n",
              "      <td>a</td>\n",
              "      <td>g</td>\n",
              "    </tr>\n",
              "  </tbody>\n",
              "</table>\n",
              "<p>5 rows × 23 columns</p>\n",
              "</div>\n",
              "    <div class=\"colab-df-buttons\">\n",
              "\n",
              "  <div class=\"colab-df-container\">\n",
              "    <button class=\"colab-df-convert\" onclick=\"convertToInteractive('df-9e56fd3c-1c14-4436-bb15-3937a63098dc')\"\n",
              "            title=\"Convert this dataframe to an interactive table.\"\n",
              "            style=\"display:none;\">\n",
              "\n",
              "  <svg xmlns=\"http://www.w3.org/2000/svg\" height=\"24px\" viewBox=\"0 -960 960 960\">\n",
              "    <path d=\"M120-120v-720h720v720H120Zm60-500h600v-160H180v160Zm220 220h160v-160H400v160Zm0 220h160v-160H400v160ZM180-400h160v-160H180v160Zm440 0h160v-160H620v160ZM180-180h160v-160H180v160Zm440 0h160v-160H620v160Z\"/>\n",
              "  </svg>\n",
              "    </button>\n",
              "\n",
              "  <style>\n",
              "    .colab-df-container {\n",
              "      display:flex;\n",
              "      gap: 12px;\n",
              "    }\n",
              "\n",
              "    .colab-df-convert {\n",
              "      background-color: #E8F0FE;\n",
              "      border: none;\n",
              "      border-radius: 50%;\n",
              "      cursor: pointer;\n",
              "      display: none;\n",
              "      fill: #1967D2;\n",
              "      height: 32px;\n",
              "      padding: 0 0 0 0;\n",
              "      width: 32px;\n",
              "    }\n",
              "\n",
              "    .colab-df-convert:hover {\n",
              "      background-color: #E2EBFA;\n",
              "      box-shadow: 0px 1px 2px rgba(60, 64, 67, 0.3), 0px 1px 3px 1px rgba(60, 64, 67, 0.15);\n",
              "      fill: #174EA6;\n",
              "    }\n",
              "\n",
              "    .colab-df-buttons div {\n",
              "      margin-bottom: 4px;\n",
              "    }\n",
              "\n",
              "    [theme=dark] .colab-df-convert {\n",
              "      background-color: #3B4455;\n",
              "      fill: #D2E3FC;\n",
              "    }\n",
              "\n",
              "    [theme=dark] .colab-df-convert:hover {\n",
              "      background-color: #434B5C;\n",
              "      box-shadow: 0px 1px 3px 1px rgba(0, 0, 0, 0.15);\n",
              "      filter: drop-shadow(0px 1px 2px rgba(0, 0, 0, 0.3));\n",
              "      fill: #FFFFFF;\n",
              "    }\n",
              "  </style>\n",
              "\n",
              "    <script>\n",
              "      const buttonEl =\n",
              "        document.querySelector('#df-9e56fd3c-1c14-4436-bb15-3937a63098dc button.colab-df-convert');\n",
              "      buttonEl.style.display =\n",
              "        google.colab.kernel.accessAllowed ? 'block' : 'none';\n",
              "\n",
              "      async function convertToInteractive(key) {\n",
              "        const element = document.querySelector('#df-9e56fd3c-1c14-4436-bb15-3937a63098dc');\n",
              "        const dataTable =\n",
              "          await google.colab.kernel.invokeFunction('convertToInteractive',\n",
              "                                                    [key], {});\n",
              "        if (!dataTable) return;\n",
              "\n",
              "        const docLinkHtml = 'Like what you see? Visit the ' +\n",
              "          '<a target=\"_blank\" href=https://colab.research.google.com/notebooks/data_table.ipynb>data table notebook</a>'\n",
              "          + ' to learn more about interactive tables.';\n",
              "        element.innerHTML = '';\n",
              "        dataTable['output_type'] = 'display_data';\n",
              "        await google.colab.output.renderOutput(dataTable, element);\n",
              "        const docLink = document.createElement('div');\n",
              "        docLink.innerHTML = docLinkHtml;\n",
              "        element.appendChild(docLink);\n",
              "      }\n",
              "    </script>\n",
              "  </div>\n",
              "\n",
              "\n",
              "<div id=\"df-50ddd48c-7e8d-4920-a87b-848e36fc6b18\">\n",
              "  <button class=\"colab-df-quickchart\" onclick=\"quickchart('df-50ddd48c-7e8d-4920-a87b-848e36fc6b18')\"\n",
              "            title=\"Suggest charts\"\n",
              "            style=\"display:none;\">\n",
              "\n",
              "<svg xmlns=\"http://www.w3.org/2000/svg\" height=\"24px\"viewBox=\"0 0 24 24\"\n",
              "     width=\"24px\">\n",
              "    <g>\n",
              "        <path d=\"M19 3H5c-1.1 0-2 .9-2 2v14c0 1.1.9 2 2 2h14c1.1 0 2-.9 2-2V5c0-1.1-.9-2-2-2zM9 17H7v-7h2v7zm4 0h-2V7h2v10zm4 0h-2v-4h2v4z\"/>\n",
              "    </g>\n",
              "</svg>\n",
              "  </button>\n",
              "\n",
              "<style>\n",
              "  .colab-df-quickchart {\n",
              "      --bg-color: #E8F0FE;\n",
              "      --fill-color: #1967D2;\n",
              "      --hover-bg-color: #E2EBFA;\n",
              "      --hover-fill-color: #174EA6;\n",
              "      --disabled-fill-color: #AAA;\n",
              "      --disabled-bg-color: #DDD;\n",
              "  }\n",
              "\n",
              "  [theme=dark] .colab-df-quickchart {\n",
              "      --bg-color: #3B4455;\n",
              "      --fill-color: #D2E3FC;\n",
              "      --hover-bg-color: #434B5C;\n",
              "      --hover-fill-color: #FFFFFF;\n",
              "      --disabled-bg-color: #3B4455;\n",
              "      --disabled-fill-color: #666;\n",
              "  }\n",
              "\n",
              "  .colab-df-quickchart {\n",
              "    background-color: var(--bg-color);\n",
              "    border: none;\n",
              "    border-radius: 50%;\n",
              "    cursor: pointer;\n",
              "    display: none;\n",
              "    fill: var(--fill-color);\n",
              "    height: 32px;\n",
              "    padding: 0;\n",
              "    width: 32px;\n",
              "  }\n",
              "\n",
              "  .colab-df-quickchart:hover {\n",
              "    background-color: var(--hover-bg-color);\n",
              "    box-shadow: 0 1px 2px rgba(60, 64, 67, 0.3), 0 1px 3px 1px rgba(60, 64, 67, 0.15);\n",
              "    fill: var(--button-hover-fill-color);\n",
              "  }\n",
              "\n",
              "  .colab-df-quickchart-complete:disabled,\n",
              "  .colab-df-quickchart-complete:disabled:hover {\n",
              "    background-color: var(--disabled-bg-color);\n",
              "    fill: var(--disabled-fill-color);\n",
              "    box-shadow: none;\n",
              "  }\n",
              "\n",
              "  .colab-df-spinner {\n",
              "    border: 2px solid var(--fill-color);\n",
              "    border-color: transparent;\n",
              "    border-bottom-color: var(--fill-color);\n",
              "    animation:\n",
              "      spin 1s steps(1) infinite;\n",
              "  }\n",
              "\n",
              "  @keyframes spin {\n",
              "    0% {\n",
              "      border-color: transparent;\n",
              "      border-bottom-color: var(--fill-color);\n",
              "      border-left-color: var(--fill-color);\n",
              "    }\n",
              "    20% {\n",
              "      border-color: transparent;\n",
              "      border-left-color: var(--fill-color);\n",
              "      border-top-color: var(--fill-color);\n",
              "    }\n",
              "    30% {\n",
              "      border-color: transparent;\n",
              "      border-left-color: var(--fill-color);\n",
              "      border-top-color: var(--fill-color);\n",
              "      border-right-color: var(--fill-color);\n",
              "    }\n",
              "    40% {\n",
              "      border-color: transparent;\n",
              "      border-right-color: var(--fill-color);\n",
              "      border-top-color: var(--fill-color);\n",
              "    }\n",
              "    60% {\n",
              "      border-color: transparent;\n",
              "      border-right-color: var(--fill-color);\n",
              "    }\n",
              "    80% {\n",
              "      border-color: transparent;\n",
              "      border-right-color: var(--fill-color);\n",
              "      border-bottom-color: var(--fill-color);\n",
              "    }\n",
              "    90% {\n",
              "      border-color: transparent;\n",
              "      border-bottom-color: var(--fill-color);\n",
              "    }\n",
              "  }\n",
              "</style>\n",
              "\n",
              "  <script>\n",
              "    async function quickchart(key) {\n",
              "      const quickchartButtonEl =\n",
              "        document.querySelector('#' + key + ' button');\n",
              "      quickchartButtonEl.disabled = true;  // To prevent multiple clicks.\n",
              "      quickchartButtonEl.classList.add('colab-df-spinner');\n",
              "      try {\n",
              "        const charts = await google.colab.kernel.invokeFunction(\n",
              "            'suggestCharts', [key], {});\n",
              "      } catch (error) {\n",
              "        console.error('Error during call to suggestCharts:', error);\n",
              "      }\n",
              "      quickchartButtonEl.classList.remove('colab-df-spinner');\n",
              "      quickchartButtonEl.classList.add('colab-df-quickchart-complete');\n",
              "    }\n",
              "    (() => {\n",
              "      let quickchartButtonEl =\n",
              "        document.querySelector('#df-50ddd48c-7e8d-4920-a87b-848e36fc6b18 button');\n",
              "      quickchartButtonEl.style.display =\n",
              "        google.colab.kernel.accessAllowed ? 'block' : 'none';\n",
              "    })();\n",
              "  </script>\n",
              "</div>\n",
              "    </div>\n",
              "  </div>\n"
            ]
          },
          "metadata": {},
          "execution_count": 6
        }
      ]
    },
    {
      "cell_type": "code",
      "metadata": {
        "id": "rFbyUZS8hYOO",
        "colab": {
          "base_uri": "https://localhost:8080/",
          "height": 0
        },
        "outputId": "4b4ba889-f047-48a2-9d68-53d36a1206a5"
      },
      "source": [
        "#Jika file berada di drive\n",
        "df = pd.read_csv('/content/Mushroom.csv', na_values=\"?\")\n",
        "df.head"
      ],
      "execution_count": 8,
      "outputs": [
        {
          "output_type": "execute_result",
          "data": {
            "text/plain": [
              "<bound method NDFrame.head of      class cap-shape cap-surface cap-color bruises odor gill-attachment  \\\n",
              "0        p         x           s         n       t    p               f   \n",
              "1        e         x           s         y       t    a               f   \n",
              "2        e         b           s         w       t    l               f   \n",
              "3        p         x           y         w       t    p               f   \n",
              "4        e         x           s         g       f    n               f   \n",
              "...    ...       ...         ...       ...     ...  ...             ...   \n",
              "8119     e         k           s         n       f    n               a   \n",
              "8120     e         x           s         n       f    n               a   \n",
              "8121     e         f           s         n       f    n               a   \n",
              "8122     p         k           y         n       f    y               f   \n",
              "8123     e         x           s         n       f    n               a   \n",
              "\n",
              "     gill-spacing gill-size gill-color  ... stalk-surface-below-ring  \\\n",
              "0               c         n          k  ...                        s   \n",
              "1               c         b          k  ...                        s   \n",
              "2               c         b          n  ...                        s   \n",
              "3               c         n          n  ...                        s   \n",
              "4               w         b          k  ...                        s   \n",
              "...           ...       ...        ...  ...                      ...   \n",
              "8119            c         b          y  ...                        s   \n",
              "8120            c         b          y  ...                        s   \n",
              "8121            c         b          n  ...                        s   \n",
              "8122            c         n          b  ...                        k   \n",
              "8123            c         b          y  ...                        s   \n",
              "\n",
              "     stalk-color-above-ring stalk-color-below-ring veil-type veil-color  \\\n",
              "0                         w                      w         p          w   \n",
              "1                         w                      w         p          w   \n",
              "2                         w                      w         p          w   \n",
              "3                         w                      w         p          w   \n",
              "4                         w                      w         p          w   \n",
              "...                     ...                    ...       ...        ...   \n",
              "8119                      o                      o         p          o   \n",
              "8120                      o                      o         p          n   \n",
              "8121                      o                      o         p          o   \n",
              "8122                      w                      w         p          w   \n",
              "8123                      o                      o         p          o   \n",
              "\n",
              "     ring-number ring-type spore-print-color population habitat  \n",
              "0              o         p                 k          s       u  \n",
              "1              o         p                 n          n       g  \n",
              "2              o         p                 n          n       m  \n",
              "3              o         p                 k          s       u  \n",
              "4              o         e                 n          a       g  \n",
              "...          ...       ...               ...        ...     ...  \n",
              "8119           o         p                 b          c       l  \n",
              "8120           o         p                 b          v       l  \n",
              "8121           o         p                 b          c       l  \n",
              "8122           o         e                 w          v       l  \n",
              "8123           o         p                 o          c       l  \n",
              "\n",
              "[8124 rows x 23 columns]>"
            ]
          },
          "metadata": {},
          "execution_count": 8
        }
      ]
    },
    {
      "cell_type": "markdown",
      "metadata": {
        "id": "CCbPvOPpSpLH"
      },
      "source": [
        "##Pra-proses:"
      ]
    },
    {
      "cell_type": "code",
      "metadata": {
        "id": "qkY6-pJ--lgk",
        "colab": {
          "base_uri": "https://localhost:8080/",
          "height": 308
        },
        "outputId": "c2c08e4c-d9fb-4ff3-bebd-b39ccad6ee0b"
      },
      "source": [
        "#Ambil target\n",
        "target = df['class']\n",
        "\n",
        "#Merubah missing value menjadi modus\n",
        "df['stalk-root'].fillna(df['stalk-root'].mode()[0], inplace=True)\n",
        "\n",
        "#Merubah data kategorik kedalam bentuk angka\n",
        "encoder = LabelEncoder()\n",
        "df_encoded = df.iloc[:, 1:]\n",
        "cols = df_encoded.columns.values\n",
        "for col in cols:\n",
        "    # print(df[col].unique())\n",
        "    df_encoded[col] = encoder.fit_transform(df_encoded[col])\n",
        "\n",
        "target_encoded = encoder.fit_transform(target)\n",
        "\n",
        "df_encoded.head()"
      ],
      "execution_count": 9,
      "outputs": [
        {
          "output_type": "execute_result",
          "data": {
            "text/plain": [
              "   cap-shape  cap-surface  cap-color  bruises  odor  gill-attachment  \\\n",
              "0          5            2          4        1     6                1   \n",
              "1          5            2          9        1     0                1   \n",
              "2          0            2          8        1     3                1   \n",
              "3          5            3          8        1     6                1   \n",
              "4          5            2          3        0     5                1   \n",
              "\n",
              "   gill-spacing  gill-size  gill-color  stalk-shape  ...  \\\n",
              "0             0          1           4            0  ...   \n",
              "1             0          0           4            0  ...   \n",
              "2             0          0           5            0  ...   \n",
              "3             0          1           5            0  ...   \n",
              "4             1          0           4            1  ...   \n",
              "\n",
              "   stalk-surface-below-ring  stalk-color-above-ring  stalk-color-below-ring  \\\n",
              "0                         2                       7                       7   \n",
              "1                         2                       7                       7   \n",
              "2                         2                       7                       7   \n",
              "3                         2                       7                       7   \n",
              "4                         2                       7                       7   \n",
              "\n",
              "   veil-type  veil-color  ring-number  ring-type  spore-print-color  \\\n",
              "0          0           2            1          4                  2   \n",
              "1          0           2            1          4                  3   \n",
              "2          0           2            1          4                  3   \n",
              "3          0           2            1          4                  2   \n",
              "4          0           2            1          0                  3   \n",
              "\n",
              "   population  habitat  \n",
              "0           3        5  \n",
              "1           2        1  \n",
              "2           2        3  \n",
              "3           3        5  \n",
              "4           0        1  \n",
              "\n",
              "[5 rows x 22 columns]"
            ],
            "text/html": [
              "\n",
              "  <div id=\"df-d7a7f86b-9eb6-4085-97ec-cefcc4a1ee12\" class=\"colab-df-container\">\n",
              "    <div>\n",
              "<style scoped>\n",
              "    .dataframe tbody tr th:only-of-type {\n",
              "        vertical-align: middle;\n",
              "    }\n",
              "\n",
              "    .dataframe tbody tr th {\n",
              "        vertical-align: top;\n",
              "    }\n",
              "\n",
              "    .dataframe thead th {\n",
              "        text-align: right;\n",
              "    }\n",
              "</style>\n",
              "<table border=\"1\" class=\"dataframe\">\n",
              "  <thead>\n",
              "    <tr style=\"text-align: right;\">\n",
              "      <th></th>\n",
              "      <th>cap-shape</th>\n",
              "      <th>cap-surface</th>\n",
              "      <th>cap-color</th>\n",
              "      <th>bruises</th>\n",
              "      <th>odor</th>\n",
              "      <th>gill-attachment</th>\n",
              "      <th>gill-spacing</th>\n",
              "      <th>gill-size</th>\n",
              "      <th>gill-color</th>\n",
              "      <th>stalk-shape</th>\n",
              "      <th>...</th>\n",
              "      <th>stalk-surface-below-ring</th>\n",
              "      <th>stalk-color-above-ring</th>\n",
              "      <th>stalk-color-below-ring</th>\n",
              "      <th>veil-type</th>\n",
              "      <th>veil-color</th>\n",
              "      <th>ring-number</th>\n",
              "      <th>ring-type</th>\n",
              "      <th>spore-print-color</th>\n",
              "      <th>population</th>\n",
              "      <th>habitat</th>\n",
              "    </tr>\n",
              "  </thead>\n",
              "  <tbody>\n",
              "    <tr>\n",
              "      <th>0</th>\n",
              "      <td>5</td>\n",
              "      <td>2</td>\n",
              "      <td>4</td>\n",
              "      <td>1</td>\n",
              "      <td>6</td>\n",
              "      <td>1</td>\n",
              "      <td>0</td>\n",
              "      <td>1</td>\n",
              "      <td>4</td>\n",
              "      <td>0</td>\n",
              "      <td>...</td>\n",
              "      <td>2</td>\n",
              "      <td>7</td>\n",
              "      <td>7</td>\n",
              "      <td>0</td>\n",
              "      <td>2</td>\n",
              "      <td>1</td>\n",
              "      <td>4</td>\n",
              "      <td>2</td>\n",
              "      <td>3</td>\n",
              "      <td>5</td>\n",
              "    </tr>\n",
              "    <tr>\n",
              "      <th>1</th>\n",
              "      <td>5</td>\n",
              "      <td>2</td>\n",
              "      <td>9</td>\n",
              "      <td>1</td>\n",
              "      <td>0</td>\n",
              "      <td>1</td>\n",
              "      <td>0</td>\n",
              "      <td>0</td>\n",
              "      <td>4</td>\n",
              "      <td>0</td>\n",
              "      <td>...</td>\n",
              "      <td>2</td>\n",
              "      <td>7</td>\n",
              "      <td>7</td>\n",
              "      <td>0</td>\n",
              "      <td>2</td>\n",
              "      <td>1</td>\n",
              "      <td>4</td>\n",
              "      <td>3</td>\n",
              "      <td>2</td>\n",
              "      <td>1</td>\n",
              "    </tr>\n",
              "    <tr>\n",
              "      <th>2</th>\n",
              "      <td>0</td>\n",
              "      <td>2</td>\n",
              "      <td>8</td>\n",
              "      <td>1</td>\n",
              "      <td>3</td>\n",
              "      <td>1</td>\n",
              "      <td>0</td>\n",
              "      <td>0</td>\n",
              "      <td>5</td>\n",
              "      <td>0</td>\n",
              "      <td>...</td>\n",
              "      <td>2</td>\n",
              "      <td>7</td>\n",
              "      <td>7</td>\n",
              "      <td>0</td>\n",
              "      <td>2</td>\n",
              "      <td>1</td>\n",
              "      <td>4</td>\n",
              "      <td>3</td>\n",
              "      <td>2</td>\n",
              "      <td>3</td>\n",
              "    </tr>\n",
              "    <tr>\n",
              "      <th>3</th>\n",
              "      <td>5</td>\n",
              "      <td>3</td>\n",
              "      <td>8</td>\n",
              "      <td>1</td>\n",
              "      <td>6</td>\n",
              "      <td>1</td>\n",
              "      <td>0</td>\n",
              "      <td>1</td>\n",
              "      <td>5</td>\n",
              "      <td>0</td>\n",
              "      <td>...</td>\n",
              "      <td>2</td>\n",
              "      <td>7</td>\n",
              "      <td>7</td>\n",
              "      <td>0</td>\n",
              "      <td>2</td>\n",
              "      <td>1</td>\n",
              "      <td>4</td>\n",
              "      <td>2</td>\n",
              "      <td>3</td>\n",
              "      <td>5</td>\n",
              "    </tr>\n",
              "    <tr>\n",
              "      <th>4</th>\n",
              "      <td>5</td>\n",
              "      <td>2</td>\n",
              "      <td>3</td>\n",
              "      <td>0</td>\n",
              "      <td>5</td>\n",
              "      <td>1</td>\n",
              "      <td>1</td>\n",
              "      <td>0</td>\n",
              "      <td>4</td>\n",
              "      <td>1</td>\n",
              "      <td>...</td>\n",
              "      <td>2</td>\n",
              "      <td>7</td>\n",
              "      <td>7</td>\n",
              "      <td>0</td>\n",
              "      <td>2</td>\n",
              "      <td>1</td>\n",
              "      <td>0</td>\n",
              "      <td>3</td>\n",
              "      <td>0</td>\n",
              "      <td>1</td>\n",
              "    </tr>\n",
              "  </tbody>\n",
              "</table>\n",
              "<p>5 rows × 22 columns</p>\n",
              "</div>\n",
              "    <div class=\"colab-df-buttons\">\n",
              "\n",
              "  <div class=\"colab-df-container\">\n",
              "    <button class=\"colab-df-convert\" onclick=\"convertToInteractive('df-d7a7f86b-9eb6-4085-97ec-cefcc4a1ee12')\"\n",
              "            title=\"Convert this dataframe to an interactive table.\"\n",
              "            style=\"display:none;\">\n",
              "\n",
              "  <svg xmlns=\"http://www.w3.org/2000/svg\" height=\"24px\" viewBox=\"0 -960 960 960\">\n",
              "    <path d=\"M120-120v-720h720v720H120Zm60-500h600v-160H180v160Zm220 220h160v-160H400v160Zm0 220h160v-160H400v160ZM180-400h160v-160H180v160Zm440 0h160v-160H620v160ZM180-180h160v-160H180v160Zm440 0h160v-160H620v160Z\"/>\n",
              "  </svg>\n",
              "    </button>\n",
              "\n",
              "  <style>\n",
              "    .colab-df-container {\n",
              "      display:flex;\n",
              "      gap: 12px;\n",
              "    }\n",
              "\n",
              "    .colab-df-convert {\n",
              "      background-color: #E8F0FE;\n",
              "      border: none;\n",
              "      border-radius: 50%;\n",
              "      cursor: pointer;\n",
              "      display: none;\n",
              "      fill: #1967D2;\n",
              "      height: 32px;\n",
              "      padding: 0 0 0 0;\n",
              "      width: 32px;\n",
              "    }\n",
              "\n",
              "    .colab-df-convert:hover {\n",
              "      background-color: #E2EBFA;\n",
              "      box-shadow: 0px 1px 2px rgba(60, 64, 67, 0.3), 0px 1px 3px 1px rgba(60, 64, 67, 0.15);\n",
              "      fill: #174EA6;\n",
              "    }\n",
              "\n",
              "    .colab-df-buttons div {\n",
              "      margin-bottom: 4px;\n",
              "    }\n",
              "\n",
              "    [theme=dark] .colab-df-convert {\n",
              "      background-color: #3B4455;\n",
              "      fill: #D2E3FC;\n",
              "    }\n",
              "\n",
              "    [theme=dark] .colab-df-convert:hover {\n",
              "      background-color: #434B5C;\n",
              "      box-shadow: 0px 1px 3px 1px rgba(0, 0, 0, 0.15);\n",
              "      filter: drop-shadow(0px 1px 2px rgba(0, 0, 0, 0.3));\n",
              "      fill: #FFFFFF;\n",
              "    }\n",
              "  </style>\n",
              "\n",
              "    <script>\n",
              "      const buttonEl =\n",
              "        document.querySelector('#df-d7a7f86b-9eb6-4085-97ec-cefcc4a1ee12 button.colab-df-convert');\n",
              "      buttonEl.style.display =\n",
              "        google.colab.kernel.accessAllowed ? 'block' : 'none';\n",
              "\n",
              "      async function convertToInteractive(key) {\n",
              "        const element = document.querySelector('#df-d7a7f86b-9eb6-4085-97ec-cefcc4a1ee12');\n",
              "        const dataTable =\n",
              "          await google.colab.kernel.invokeFunction('convertToInteractive',\n",
              "                                                    [key], {});\n",
              "        if (!dataTable) return;\n",
              "\n",
              "        const docLinkHtml = 'Like what you see? Visit the ' +\n",
              "          '<a target=\"_blank\" href=https://colab.research.google.com/notebooks/data_table.ipynb>data table notebook</a>'\n",
              "          + ' to learn more about interactive tables.';\n",
              "        element.innerHTML = '';\n",
              "        dataTable['output_type'] = 'display_data';\n",
              "        await google.colab.output.renderOutput(dataTable, element);\n",
              "        const docLink = document.createElement('div');\n",
              "        docLink.innerHTML = docLinkHtml;\n",
              "        element.appendChild(docLink);\n",
              "      }\n",
              "    </script>\n",
              "  </div>\n",
              "\n",
              "\n",
              "<div id=\"df-5813b7d0-07f2-443d-b575-3627219502ba\">\n",
              "  <button class=\"colab-df-quickchart\" onclick=\"quickchart('df-5813b7d0-07f2-443d-b575-3627219502ba')\"\n",
              "            title=\"Suggest charts\"\n",
              "            style=\"display:none;\">\n",
              "\n",
              "<svg xmlns=\"http://www.w3.org/2000/svg\" height=\"24px\"viewBox=\"0 0 24 24\"\n",
              "     width=\"24px\">\n",
              "    <g>\n",
              "        <path d=\"M19 3H5c-1.1 0-2 .9-2 2v14c0 1.1.9 2 2 2h14c1.1 0 2-.9 2-2V5c0-1.1-.9-2-2-2zM9 17H7v-7h2v7zm4 0h-2V7h2v10zm4 0h-2v-4h2v4z\"/>\n",
              "    </g>\n",
              "</svg>\n",
              "  </button>\n",
              "\n",
              "<style>\n",
              "  .colab-df-quickchart {\n",
              "      --bg-color: #E8F0FE;\n",
              "      --fill-color: #1967D2;\n",
              "      --hover-bg-color: #E2EBFA;\n",
              "      --hover-fill-color: #174EA6;\n",
              "      --disabled-fill-color: #AAA;\n",
              "      --disabled-bg-color: #DDD;\n",
              "  }\n",
              "\n",
              "  [theme=dark] .colab-df-quickchart {\n",
              "      --bg-color: #3B4455;\n",
              "      --fill-color: #D2E3FC;\n",
              "      --hover-bg-color: #434B5C;\n",
              "      --hover-fill-color: #FFFFFF;\n",
              "      --disabled-bg-color: #3B4455;\n",
              "      --disabled-fill-color: #666;\n",
              "  }\n",
              "\n",
              "  .colab-df-quickchart {\n",
              "    background-color: var(--bg-color);\n",
              "    border: none;\n",
              "    border-radius: 50%;\n",
              "    cursor: pointer;\n",
              "    display: none;\n",
              "    fill: var(--fill-color);\n",
              "    height: 32px;\n",
              "    padding: 0;\n",
              "    width: 32px;\n",
              "  }\n",
              "\n",
              "  .colab-df-quickchart:hover {\n",
              "    background-color: var(--hover-bg-color);\n",
              "    box-shadow: 0 1px 2px rgba(60, 64, 67, 0.3), 0 1px 3px 1px rgba(60, 64, 67, 0.15);\n",
              "    fill: var(--button-hover-fill-color);\n",
              "  }\n",
              "\n",
              "  .colab-df-quickchart-complete:disabled,\n",
              "  .colab-df-quickchart-complete:disabled:hover {\n",
              "    background-color: var(--disabled-bg-color);\n",
              "    fill: var(--disabled-fill-color);\n",
              "    box-shadow: none;\n",
              "  }\n",
              "\n",
              "  .colab-df-spinner {\n",
              "    border: 2px solid var(--fill-color);\n",
              "    border-color: transparent;\n",
              "    border-bottom-color: var(--fill-color);\n",
              "    animation:\n",
              "      spin 1s steps(1) infinite;\n",
              "  }\n",
              "\n",
              "  @keyframes spin {\n",
              "    0% {\n",
              "      border-color: transparent;\n",
              "      border-bottom-color: var(--fill-color);\n",
              "      border-left-color: var(--fill-color);\n",
              "    }\n",
              "    20% {\n",
              "      border-color: transparent;\n",
              "      border-left-color: var(--fill-color);\n",
              "      border-top-color: var(--fill-color);\n",
              "    }\n",
              "    30% {\n",
              "      border-color: transparent;\n",
              "      border-left-color: var(--fill-color);\n",
              "      border-top-color: var(--fill-color);\n",
              "      border-right-color: var(--fill-color);\n",
              "    }\n",
              "    40% {\n",
              "      border-color: transparent;\n",
              "      border-right-color: var(--fill-color);\n",
              "      border-top-color: var(--fill-color);\n",
              "    }\n",
              "    60% {\n",
              "      border-color: transparent;\n",
              "      border-right-color: var(--fill-color);\n",
              "    }\n",
              "    80% {\n",
              "      border-color: transparent;\n",
              "      border-right-color: var(--fill-color);\n",
              "      border-bottom-color: var(--fill-color);\n",
              "    }\n",
              "    90% {\n",
              "      border-color: transparent;\n",
              "      border-bottom-color: var(--fill-color);\n",
              "    }\n",
              "  }\n",
              "</style>\n",
              "\n",
              "  <script>\n",
              "    async function quickchart(key) {\n",
              "      const quickchartButtonEl =\n",
              "        document.querySelector('#' + key + ' button');\n",
              "      quickchartButtonEl.disabled = true;  // To prevent multiple clicks.\n",
              "      quickchartButtonEl.classList.add('colab-df-spinner');\n",
              "      try {\n",
              "        const charts = await google.colab.kernel.invokeFunction(\n",
              "            'suggestCharts', [key], {});\n",
              "      } catch (error) {\n",
              "        console.error('Error during call to suggestCharts:', error);\n",
              "      }\n",
              "      quickchartButtonEl.classList.remove('colab-df-spinner');\n",
              "      quickchartButtonEl.classList.add('colab-df-quickchart-complete');\n",
              "    }\n",
              "    (() => {\n",
              "      let quickchartButtonEl =\n",
              "        document.querySelector('#df-5813b7d0-07f2-443d-b575-3627219502ba button');\n",
              "      quickchartButtonEl.style.display =\n",
              "        google.colab.kernel.accessAllowed ? 'block' : 'none';\n",
              "    })();\n",
              "  </script>\n",
              "</div>\n",
              "    </div>\n",
              "  </div>\n"
            ]
          },
          "metadata": {},
          "execution_count": 9
        }
      ]
    },
    {
      "cell_type": "markdown",
      "metadata": {
        "id": "QTiesA67TJps"
      },
      "source": [
        "##Klasifikasi:"
      ]
    },
    {
      "cell_type": "code",
      "metadata": {
        "id": "IbhKU76OlJB7",
        "colab": {
          "base_uri": "https://localhost:8080/",
          "height": 16095
        },
        "outputId": "742a091a-8d4b-4fb8-b200-ee46acb688b7"
      },
      "source": [
        "#Split data train dan test\n",
        "x_train, x_test, y_train, y_test = train_test_split(df_encoded.to_numpy(), target_encoded, test_size = 0.20, random_state = 42)\n",
        "\n",
        "#Parameter GA\n",
        "solution_per_population = 8\n",
        "num_parents_mating = 4\n",
        "num_generations = 15\n",
        "\n",
        "input_shape = x_train.shape[1]\n",
        "output_shape = len(np.unique(y_train))\n",
        "\n",
        "# inisiasi weight\n",
        "initial_weights = []\n",
        "for curr_sol in np.arange(0, solution_per_population):\n",
        "\n",
        "    w1 = np.random.uniform(low=-0.1, high=0.1, size=(input_shape, 128))\n",
        "    w2 = np.random.uniform(low=-0.1, high=0.1, size=(128, 64))\n",
        "    w3 = np.random.uniform(low=-0.1, high=0.1, size=(64, output_shape))\n",
        "\n",
        "    initial_weights.append(np.array([w1, w2, w3]))\n",
        "\n",
        "weights_mat = np.array(initial_weights)\n",
        "weights_vector = mat_to_vector(weights_mat)\n",
        "\n",
        "#Parameter penilaian\n",
        "error_rate = []\n",
        "accu_uyeh = []\n",
        "best_outputs = []\n",
        "accuracies = np.empty(shape=(num_generations))\n",
        "\n",
        "# Pengujian model\n",
        "for i in range(1,11):\n",
        "  mutation_percent = i/10\n",
        "\n",
        "  weights_mat = np.array(initial_weights)\n",
        "  weights_vector = mat_to_vector(weights_mat)\n",
        "\n",
        "  accuracies = np.empty(shape=(num_generations))\n",
        "  for generation in tqdm(range(num_generations), desc=\"Processing mutation_percent = \" + str(i/10), leave=False):\n",
        "\n",
        "    # vector to matrix\n",
        "    weights_mat = vector_to_mat(weights_vector, weights_mat)\n",
        "\n",
        "    # fitness of the population\n",
        "    fit = fitness(x_train, y_train, weights_mat, activation=sigmoid)\n",
        "\n",
        "    # assign first fitness to the array\n",
        "    accuracies[generation] = fit[0]\n",
        "\n",
        "    # selecting mating parents from pool\n",
        "    parents = mating_pool(weights_vector, fit.copy(), num_parents_mating)\n",
        "\n",
        "    # generate new population using crossover\n",
        "    offspring_crossover = crossover(parents, offspring_size=(weights_vector.shape[0]-parents.shape[0], weights_vector.shape[1]))\n",
        "\n",
        "    # adding mutation to the population\n",
        "    offspring_mutation = mutation(offspring_crossover, mutation_percent=mutation_percent)\n",
        "\n",
        "    # new population combining parents of crossver and mut\n",
        "    weights_vector[0:parents.shape[0], :] = parents\n",
        "    weights_vector[parents.shape[0]:, :] = offspring_mutation\n",
        "\n",
        "  weights_mat = vector_to_mat(weights_vector, weights_mat)\n",
        "  best_weights = weights_mat [0, :]\n",
        "  acc, predictions = predict(x_train, y_train, best_weights, sigmoid)\n",
        "  error_rate.append(np.mean(predictions != y_train))\n",
        "  accu_uyeh.append(acc)\n",
        "\n",
        "#Plot\n",
        "xDex = []\n",
        "for i in range(1,11):\n",
        "  xDex.append(i/10)\n",
        "\n",
        "plt.plot(xDex, error_rate, color='blue', linestyle='dashed', marker='o', markerfacecolor='red', markersize=10)\n",
        "plt.title('Error Rate vs. Mutation Percent')\n",
        "plt.xlabel('Mutation Percent')\n",
        "plt.ylabel('Error Rate')\n",
        "plt.show()"
      ],
      "execution_count": 19,
      "outputs": [
        {
          "output_type": "stream",
          "name": "stderr",
          "text": [
            "Processing mutation_percent = 0.1:   7%|▋         | 1/15 [00:03<00:52,  3.73s/it]"
          ]
        },
        {
          "output_type": "stream",
          "name": "stdout",
          "text": [
            "pop shape\n",
            "(8, 11136)\n",
            "looping berapa kali\n",
            "4\n",
            "parent shape\n",
            "(4, 11136)\n"
          ]
        },
        {
          "output_type": "stream",
          "name": "stderr",
          "text": [
            "\rProcessing mutation_percent = 0.1:  13%|█▎        | 2/15 [00:07<00:48,  3.72s/it]"
          ]
        },
        {
          "output_type": "stream",
          "name": "stdout",
          "text": [
            "pop shape\n",
            "(8, 11136)\n",
            "looping berapa kali\n",
            "4\n",
            "parent shape\n",
            "(4, 11136)\n"
          ]
        },
        {
          "output_type": "stream",
          "name": "stderr",
          "text": [
            "\rProcessing mutation_percent = 0.1:  20%|██        | 3/15 [00:11<00:44,  3.74s/it]"
          ]
        },
        {
          "output_type": "stream",
          "name": "stdout",
          "text": [
            "pop shape\n",
            "(8, 11136)\n",
            "looping berapa kali\n",
            "4\n",
            "parent shape\n",
            "(4, 11136)\n"
          ]
        },
        {
          "output_type": "stream",
          "name": "stderr",
          "text": [
            "\rProcessing mutation_percent = 0.1:  27%|██▋       | 4/15 [00:14<00:39,  3.61s/it]"
          ]
        },
        {
          "output_type": "stream",
          "name": "stdout",
          "text": [
            "pop shape\n",
            "(8, 11136)\n",
            "looping berapa kali\n",
            "4\n",
            "parent shape\n",
            "(4, 11136)\n"
          ]
        },
        {
          "output_type": "stream",
          "name": "stderr",
          "text": [
            "\rProcessing mutation_percent = 0.1:  33%|███▎      | 5/15 [00:17<00:34,  3.42s/it]"
          ]
        },
        {
          "output_type": "stream",
          "name": "stdout",
          "text": [
            "pop shape\n",
            "(8, 11136)\n",
            "looping berapa kali\n",
            "4\n",
            "parent shape\n",
            "(4, 11136)\n"
          ]
        },
        {
          "output_type": "stream",
          "name": "stderr",
          "text": [
            "\rProcessing mutation_percent = 0.1:  40%|████      | 6/15 [00:21<00:31,  3.52s/it]"
          ]
        },
        {
          "output_type": "stream",
          "name": "stdout",
          "text": [
            "pop shape\n",
            "(8, 11136)\n",
            "looping berapa kali\n",
            "4\n",
            "parent shape\n",
            "(4, 11136)\n"
          ]
        },
        {
          "output_type": "stream",
          "name": "stderr",
          "text": [
            "\rProcessing mutation_percent = 0.1:  47%|████▋     | 7/15 [00:25<00:29,  3.63s/it]"
          ]
        },
        {
          "output_type": "stream",
          "name": "stdout",
          "text": [
            "pop shape\n",
            "(8, 11136)\n",
            "looping berapa kali\n",
            "4\n",
            "parent shape\n",
            "(4, 11136)\n"
          ]
        },
        {
          "output_type": "stream",
          "name": "stderr",
          "text": [
            "\rProcessing mutation_percent = 0.1:  53%|█████▎    | 8/15 [00:28<00:24,  3.56s/it]"
          ]
        },
        {
          "output_type": "stream",
          "name": "stdout",
          "text": [
            "pop shape\n",
            "(8, 11136)\n",
            "looping berapa kali\n",
            "4\n",
            "parent shape\n",
            "(4, 11136)\n"
          ]
        },
        {
          "output_type": "stream",
          "name": "stderr",
          "text": [
            "\rProcessing mutation_percent = 0.1:  60%|██████    | 9/15 [00:32<00:21,  3.54s/it]"
          ]
        },
        {
          "output_type": "stream",
          "name": "stdout",
          "text": [
            "pop shape\n",
            "(8, 11136)\n",
            "looping berapa kali\n",
            "4\n",
            "parent shape\n",
            "(4, 11136)\n"
          ]
        },
        {
          "output_type": "stream",
          "name": "stderr",
          "text": [
            "\rProcessing mutation_percent = 0.1:  67%|██████▋   | 10/15 [00:35<00:17,  3.48s/it]"
          ]
        },
        {
          "output_type": "stream",
          "name": "stdout",
          "text": [
            "pop shape\n",
            "(8, 11136)\n",
            "looping berapa kali\n",
            "4\n",
            "parent shape\n",
            "(4, 11136)\n"
          ]
        },
        {
          "output_type": "stream",
          "name": "stderr",
          "text": [
            "\rProcessing mutation_percent = 0.1:  73%|███████▎  | 11/15 [00:39<00:14,  3.53s/it]"
          ]
        },
        {
          "output_type": "stream",
          "name": "stdout",
          "text": [
            "pop shape\n",
            "(8, 11136)\n",
            "looping berapa kali\n",
            "4\n",
            "parent shape\n",
            "(4, 11136)\n"
          ]
        },
        {
          "output_type": "stream",
          "name": "stderr",
          "text": [
            "\rProcessing mutation_percent = 0.1:  80%|████████  | 12/15 [00:42<00:10,  3.59s/it]"
          ]
        },
        {
          "output_type": "stream",
          "name": "stdout",
          "text": [
            "pop shape\n",
            "(8, 11136)\n",
            "looping berapa kali\n",
            "4\n",
            "parent shape\n",
            "(4, 11136)\n"
          ]
        },
        {
          "output_type": "stream",
          "name": "stderr",
          "text": [
            "\rProcessing mutation_percent = 0.1:  87%|████████▋ | 13/15 [00:46<00:07,  3.65s/it]"
          ]
        },
        {
          "output_type": "stream",
          "name": "stdout",
          "text": [
            "pop shape\n",
            "(8, 11136)\n",
            "looping berapa kali\n",
            "4\n",
            "parent shape\n",
            "(4, 11136)\n"
          ]
        },
        {
          "output_type": "stream",
          "name": "stderr",
          "text": [
            "\rProcessing mutation_percent = 0.1:  93%|█████████▎| 14/15 [00:49<00:03,  3.45s/it]"
          ]
        },
        {
          "output_type": "stream",
          "name": "stdout",
          "text": [
            "pop shape\n",
            "(8, 11136)\n",
            "looping berapa kali\n",
            "4\n",
            "parent shape\n",
            "(4, 11136)\n"
          ]
        },
        {
          "output_type": "stream",
          "name": "stderr",
          "text": [
            "                                                                                  "
          ]
        },
        {
          "output_type": "stream",
          "name": "stdout",
          "text": [
            "pop shape\n",
            "(8, 11136)\n",
            "looping berapa kali\n",
            "4\n",
            "parent shape\n",
            "(4, 11136)\n"
          ]
        },
        {
          "output_type": "stream",
          "name": "stderr",
          "text": [
            "Processing mutation_percent = 0.2:   7%|▋         | 1/15 [00:03<00:47,  3.37s/it]"
          ]
        },
        {
          "output_type": "stream",
          "name": "stdout",
          "text": [
            "pop shape\n",
            "(8, 11136)\n",
            "looping berapa kali\n",
            "4\n",
            "parent shape\n",
            "(4, 11136)\n"
          ]
        },
        {
          "output_type": "stream",
          "name": "stderr",
          "text": [
            "\rProcessing mutation_percent = 0.2:  13%|█▎        | 2/15 [00:07<00:47,  3.62s/it]"
          ]
        },
        {
          "output_type": "stream",
          "name": "stdout",
          "text": [
            "pop shape\n",
            "(8, 11136)\n",
            "looping berapa kali\n",
            "4\n",
            "parent shape\n",
            "(4, 11136)\n"
          ]
        },
        {
          "output_type": "stream",
          "name": "stderr",
          "text": [
            "\rProcessing mutation_percent = 0.2:  20%|██        | 3/15 [00:10<00:43,  3.66s/it]"
          ]
        },
        {
          "output_type": "stream",
          "name": "stdout",
          "text": [
            "pop shape\n",
            "(8, 11136)\n",
            "looping berapa kali\n",
            "4\n",
            "parent shape\n",
            "(4, 11136)\n"
          ]
        },
        {
          "output_type": "stream",
          "name": "stderr",
          "text": [
            "\rProcessing mutation_percent = 0.2:  27%|██▋       | 4/15 [00:13<00:37,  3.37s/it]"
          ]
        },
        {
          "output_type": "stream",
          "name": "stdout",
          "text": [
            "pop shape\n",
            "(8, 11136)\n",
            "looping berapa kali\n",
            "4\n",
            "parent shape\n",
            "(4, 11136)\n"
          ]
        },
        {
          "output_type": "stream",
          "name": "stderr",
          "text": [
            "\rProcessing mutation_percent = 0.2:  33%|███▎      | 5/15 [00:17<00:33,  3.33s/it]"
          ]
        },
        {
          "output_type": "stream",
          "name": "stdout",
          "text": [
            "pop shape\n",
            "(8, 11136)\n",
            "looping berapa kali\n",
            "4\n",
            "parent shape\n",
            "(4, 11136)\n"
          ]
        },
        {
          "output_type": "stream",
          "name": "stderr",
          "text": [
            "\rProcessing mutation_percent = 0.2:  40%|████      | 6/15 [00:20<00:30,  3.42s/it]"
          ]
        },
        {
          "output_type": "stream",
          "name": "stdout",
          "text": [
            "pop shape\n",
            "(8, 11136)\n",
            "looping berapa kali\n",
            "4\n",
            "parent shape\n",
            "(4, 11136)\n"
          ]
        },
        {
          "output_type": "stream",
          "name": "stderr",
          "text": [
            "\rProcessing mutation_percent = 0.2:  47%|████▋     | 7/15 [00:24<00:28,  3.55s/it]"
          ]
        },
        {
          "output_type": "stream",
          "name": "stdout",
          "text": [
            "pop shape\n",
            "(8, 11136)\n",
            "looping berapa kali\n",
            "4\n",
            "parent shape\n",
            "(4, 11136)\n"
          ]
        },
        {
          "output_type": "stream",
          "name": "stderr",
          "text": [
            "\rProcessing mutation_percent = 0.2:  53%|█████▎    | 8/15 [00:28<00:25,  3.61s/it]"
          ]
        },
        {
          "output_type": "stream",
          "name": "stdout",
          "text": [
            "pop shape\n",
            "(8, 11136)\n",
            "looping berapa kali\n",
            "4\n",
            "parent shape\n",
            "(4, 11136)\n"
          ]
        },
        {
          "output_type": "stream",
          "name": "stderr",
          "text": [
            "\rProcessing mutation_percent = 0.2:  60%|██████    | 9/15 [00:31<00:21,  3.59s/it]"
          ]
        },
        {
          "output_type": "stream",
          "name": "stdout",
          "text": [
            "pop shape\n",
            "(8, 11136)\n",
            "looping berapa kali\n",
            "4\n",
            "parent shape\n",
            "(4, 11136)\n"
          ]
        },
        {
          "output_type": "stream",
          "name": "stderr",
          "text": [
            "\rProcessing mutation_percent = 0.2:  67%|██████▋   | 10/15 [00:35<00:17,  3.49s/it]"
          ]
        },
        {
          "output_type": "stream",
          "name": "stdout",
          "text": [
            "pop shape\n",
            "(8, 11136)\n",
            "looping berapa kali\n",
            "4\n",
            "parent shape\n",
            "(4, 11136)\n"
          ]
        },
        {
          "output_type": "stream",
          "name": "stderr",
          "text": [
            "\rProcessing mutation_percent = 0.2:  73%|███████▎  | 11/15 [00:38<00:13,  3.37s/it]"
          ]
        },
        {
          "output_type": "stream",
          "name": "stdout",
          "text": [
            "pop shape\n",
            "(8, 11136)\n",
            "looping berapa kali\n",
            "4\n",
            "parent shape\n",
            "(4, 11136)\n"
          ]
        },
        {
          "output_type": "stream",
          "name": "stderr",
          "text": [
            "\rProcessing mutation_percent = 0.2:  80%|████████  | 12/15 [00:41<00:10,  3.48s/it]"
          ]
        },
        {
          "output_type": "stream",
          "name": "stdout",
          "text": [
            "pop shape\n",
            "(8, 11136)\n",
            "looping berapa kali\n",
            "4\n",
            "parent shape\n",
            "(4, 11136)\n"
          ]
        },
        {
          "output_type": "stream",
          "name": "stderr",
          "text": [
            "\rProcessing mutation_percent = 0.2:  87%|████████▋ | 13/15 [00:45<00:07,  3.54s/it]"
          ]
        },
        {
          "output_type": "stream",
          "name": "stdout",
          "text": [
            "pop shape\n",
            "(8, 11136)\n",
            "looping berapa kali\n",
            "4\n",
            "parent shape\n",
            "(4, 11136)\n"
          ]
        },
        {
          "output_type": "stream",
          "name": "stderr",
          "text": [
            "\rProcessing mutation_percent = 0.2:  93%|█████████▎| 14/15 [00:48<00:03,  3.50s/it]"
          ]
        },
        {
          "output_type": "stream",
          "name": "stdout",
          "text": [
            "pop shape\n",
            "(8, 11136)\n",
            "looping berapa kali\n",
            "4\n",
            "parent shape\n",
            "(4, 11136)\n"
          ]
        },
        {
          "output_type": "stream",
          "name": "stderr",
          "text": [
            "                                                                                  "
          ]
        },
        {
          "output_type": "stream",
          "name": "stdout",
          "text": [
            "pop shape\n",
            "(8, 11136)\n",
            "looping berapa kali\n",
            "4\n",
            "parent shape\n",
            "(4, 11136)\n"
          ]
        },
        {
          "output_type": "stream",
          "name": "stderr",
          "text": [
            "Processing mutation_percent = 0.3:   7%|▋         | 1/15 [00:03<00:50,  3.61s/it]"
          ]
        },
        {
          "output_type": "stream",
          "name": "stdout",
          "text": [
            "pop shape\n",
            "(8, 11136)\n",
            "looping berapa kali\n",
            "4\n",
            "parent shape\n",
            "(4, 11136)\n"
          ]
        },
        {
          "output_type": "stream",
          "name": "stderr",
          "text": [
            "\rProcessing mutation_percent = 0.3:  13%|█▎        | 2/15 [00:07<00:46,  3.59s/it]"
          ]
        },
        {
          "output_type": "stream",
          "name": "stdout",
          "text": [
            "pop shape\n",
            "(8, 11136)\n",
            "looping berapa kali\n",
            "4\n",
            "parent shape\n",
            "(4, 11136)\n"
          ]
        },
        {
          "output_type": "stream",
          "name": "stderr",
          "text": [
            "\rProcessing mutation_percent = 0.3:  20%|██        | 3/15 [00:10<00:43,  3.65s/it]"
          ]
        },
        {
          "output_type": "stream",
          "name": "stdout",
          "text": [
            "pop shape\n",
            "(8, 11136)\n",
            "looping berapa kali\n",
            "4\n",
            "parent shape\n",
            "(4, 11136)\n"
          ]
        },
        {
          "output_type": "stream",
          "name": "stderr",
          "text": [
            "\rProcessing mutation_percent = 0.3:  27%|██▋       | 4/15 [00:14<00:37,  3.44s/it]"
          ]
        },
        {
          "output_type": "stream",
          "name": "stdout",
          "text": [
            "pop shape\n",
            "(8, 11136)\n",
            "looping berapa kali\n",
            "4\n",
            "parent shape\n",
            "(4, 11136)\n"
          ]
        },
        {
          "output_type": "stream",
          "name": "stderr",
          "text": [
            "\rProcessing mutation_percent = 0.3:  33%|███▎      | 5/15 [00:17<00:34,  3.41s/it]"
          ]
        },
        {
          "output_type": "stream",
          "name": "stdout",
          "text": [
            "pop shape\n",
            "(8, 11136)\n",
            "looping berapa kali\n",
            "4\n",
            "parent shape\n",
            "(4, 11136)\n"
          ]
        },
        {
          "output_type": "stream",
          "name": "stderr",
          "text": [
            "\rProcessing mutation_percent = 0.3:  40%|████      | 6/15 [00:20<00:29,  3.29s/it]"
          ]
        },
        {
          "output_type": "stream",
          "name": "stdout",
          "text": [
            "pop shape\n",
            "(8, 11136)\n",
            "looping berapa kali\n",
            "4\n",
            "parent shape\n",
            "(4, 11136)\n"
          ]
        },
        {
          "output_type": "stream",
          "name": "stderr",
          "text": [
            "\rProcessing mutation_percent = 0.3:  47%|████▋     | 7/15 [00:23<00:26,  3.33s/it]"
          ]
        },
        {
          "output_type": "stream",
          "name": "stdout",
          "text": [
            "pop shape\n",
            "(8, 11136)\n",
            "looping berapa kali\n",
            "4\n",
            "parent shape\n",
            "(4, 11136)\n"
          ]
        },
        {
          "output_type": "stream",
          "name": "stderr",
          "text": [
            "\rProcessing mutation_percent = 0.3:  53%|█████▎    | 8/15 [00:27<00:24,  3.48s/it]"
          ]
        },
        {
          "output_type": "stream",
          "name": "stdout",
          "text": [
            "pop shape\n",
            "(8, 11136)\n",
            "looping berapa kali\n",
            "4\n",
            "parent shape\n",
            "(4, 11136)\n"
          ]
        },
        {
          "output_type": "stream",
          "name": "stderr",
          "text": [
            "\rProcessing mutation_percent = 0.3:  60%|██████    | 9/15 [00:31<00:20,  3.46s/it]"
          ]
        },
        {
          "output_type": "stream",
          "name": "stdout",
          "text": [
            "pop shape\n",
            "(8, 11136)\n",
            "looping berapa kali\n",
            "4\n",
            "parent shape\n",
            "(4, 11136)\n"
          ]
        },
        {
          "output_type": "stream",
          "name": "stderr",
          "text": [
            "\rProcessing mutation_percent = 0.3:  67%|██████▋   | 10/15 [00:34<00:17,  3.43s/it]"
          ]
        },
        {
          "output_type": "stream",
          "name": "stdout",
          "text": [
            "pop shape\n",
            "(8, 11136)\n",
            "looping berapa kali\n",
            "4\n",
            "parent shape\n",
            "(4, 11136)\n"
          ]
        },
        {
          "output_type": "stream",
          "name": "stderr",
          "text": [
            "\rProcessing mutation_percent = 0.3:  73%|███████▎  | 11/15 [00:37<00:13,  3.43s/it]"
          ]
        },
        {
          "output_type": "stream",
          "name": "stdout",
          "text": [
            "pop shape\n",
            "(8, 11136)\n",
            "looping berapa kali\n",
            "4\n",
            "parent shape\n",
            "(4, 11136)\n"
          ]
        },
        {
          "output_type": "stream",
          "name": "stderr",
          "text": [
            "\rProcessing mutation_percent = 0.3:  80%|████████  | 12/15 [00:41<00:10,  3.38s/it]"
          ]
        },
        {
          "output_type": "stream",
          "name": "stdout",
          "text": [
            "pop shape\n",
            "(8, 11136)\n",
            "looping berapa kali\n",
            "4\n",
            "parent shape\n",
            "(4, 11136)\n"
          ]
        },
        {
          "output_type": "stream",
          "name": "stderr",
          "text": [
            "\rProcessing mutation_percent = 0.3:  87%|████████▋ | 13/15 [00:44<00:06,  3.49s/it]"
          ]
        },
        {
          "output_type": "stream",
          "name": "stdout",
          "text": [
            "pop shape\n",
            "(8, 11136)\n",
            "looping berapa kali\n",
            "4\n",
            "parent shape\n",
            "(4, 11136)\n"
          ]
        },
        {
          "output_type": "stream",
          "name": "stderr",
          "text": [
            "\rProcessing mutation_percent = 0.3:  93%|█████████▎| 14/15 [00:48<00:03,  3.50s/it]"
          ]
        },
        {
          "output_type": "stream",
          "name": "stdout",
          "text": [
            "pop shape\n",
            "(8, 11136)\n",
            "looping berapa kali\n",
            "4\n",
            "parent shape\n",
            "(4, 11136)\n"
          ]
        },
        {
          "output_type": "stream",
          "name": "stderr",
          "text": [
            "                                                                                  "
          ]
        },
        {
          "output_type": "stream",
          "name": "stdout",
          "text": [
            "pop shape\n",
            "(8, 11136)\n",
            "looping berapa kali\n",
            "4\n",
            "parent shape\n",
            "(4, 11136)\n"
          ]
        },
        {
          "output_type": "stream",
          "name": "stderr",
          "text": [
            "Processing mutation_percent = 0.4:   7%|▋         | 1/15 [00:03<00:48,  3.47s/it]"
          ]
        },
        {
          "output_type": "stream",
          "name": "stdout",
          "text": [
            "pop shape\n",
            "(8, 11136)\n",
            "looping berapa kali\n",
            "4\n",
            "parent shape\n",
            "(4, 11136)\n"
          ]
        },
        {
          "output_type": "stream",
          "name": "stderr",
          "text": [
            "\rProcessing mutation_percent = 0.4:  13%|█▎        | 2/15 [00:06<00:44,  3.41s/it]"
          ]
        },
        {
          "output_type": "stream",
          "name": "stdout",
          "text": [
            "pop shape\n",
            "(8, 11136)\n",
            "looping berapa kali\n",
            "4\n",
            "parent shape\n",
            "(4, 11136)\n"
          ]
        },
        {
          "output_type": "stream",
          "name": "stderr",
          "text": [
            "\rProcessing mutation_percent = 0.4:  20%|██        | 3/15 [00:10<00:42,  3.55s/it]"
          ]
        },
        {
          "output_type": "stream",
          "name": "stdout",
          "text": [
            "pop shape\n",
            "(8, 11136)\n",
            "looping berapa kali\n",
            "4\n",
            "parent shape\n",
            "(4, 11136)\n"
          ]
        },
        {
          "output_type": "stream",
          "name": "stderr",
          "text": [
            "\rProcessing mutation_percent = 0.4:  27%|██▋       | 4/15 [00:14<00:39,  3.58s/it]"
          ]
        },
        {
          "output_type": "stream",
          "name": "stdout",
          "text": [
            "pop shape\n",
            "(8, 11136)\n",
            "looping berapa kali\n",
            "4\n",
            "parent shape\n",
            "(4, 11136)\n"
          ]
        },
        {
          "output_type": "stream",
          "name": "stderr",
          "text": [
            "\rProcessing mutation_percent = 0.4:  33%|███▎      | 5/15 [00:16<00:32,  3.27s/it]"
          ]
        },
        {
          "output_type": "stream",
          "name": "stdout",
          "text": [
            "pop shape\n",
            "(8, 11136)\n",
            "looping berapa kali\n",
            "4\n",
            "parent shape\n",
            "(4, 11136)\n"
          ]
        },
        {
          "output_type": "stream",
          "name": "stderr",
          "text": [
            "\rProcessing mutation_percent = 0.4:  40%|████      | 6/15 [00:20<00:29,  3.27s/it]"
          ]
        },
        {
          "output_type": "stream",
          "name": "stdout",
          "text": [
            "pop shape\n",
            "(8, 11136)\n",
            "looping berapa kali\n",
            "4\n",
            "parent shape\n",
            "(4, 11136)\n"
          ]
        },
        {
          "output_type": "stream",
          "name": "stderr",
          "text": [
            "\rProcessing mutation_percent = 0.4:  47%|████▋     | 7/15 [00:23<00:26,  3.27s/it]"
          ]
        },
        {
          "output_type": "stream",
          "name": "stdout",
          "text": [
            "pop shape\n",
            "(8, 11136)\n",
            "looping berapa kali\n",
            "4\n",
            "parent shape\n",
            "(4, 11136)\n"
          ]
        },
        {
          "output_type": "stream",
          "name": "stderr",
          "text": [
            "\rProcessing mutation_percent = 0.4:  53%|█████▎    | 8/15 [00:27<00:23,  3.39s/it]"
          ]
        },
        {
          "output_type": "stream",
          "name": "stdout",
          "text": [
            "pop shape\n",
            "(8, 11136)\n",
            "looping berapa kali\n",
            "4\n",
            "parent shape\n",
            "(4, 11136)\n"
          ]
        },
        {
          "output_type": "stream",
          "name": "stderr",
          "text": [
            "\rProcessing mutation_percent = 0.4:  60%|██████    | 9/15 [00:30<00:20,  3.50s/it]"
          ]
        },
        {
          "output_type": "stream",
          "name": "stdout",
          "text": [
            "pop shape\n",
            "(8, 11136)\n",
            "looping berapa kali\n",
            "4\n",
            "parent shape\n",
            "(4, 11136)\n"
          ]
        },
        {
          "output_type": "stream",
          "name": "stderr",
          "text": [
            "\rProcessing mutation_percent = 0.4:  67%|██████▋   | 10/15 [00:34<00:17,  3.49s/it]"
          ]
        },
        {
          "output_type": "stream",
          "name": "stdout",
          "text": [
            "pop shape\n",
            "(8, 11136)\n",
            "looping berapa kali\n",
            "4\n",
            "parent shape\n",
            "(4, 11136)\n"
          ]
        },
        {
          "output_type": "stream",
          "name": "stderr",
          "text": [
            "\rProcessing mutation_percent = 0.4:  73%|███████▎  | 11/15 [00:37<00:13,  3.45s/it]"
          ]
        },
        {
          "output_type": "stream",
          "name": "stdout",
          "text": [
            "pop shape\n",
            "(8, 11136)\n",
            "looping berapa kali\n",
            "4\n",
            "parent shape\n",
            "(4, 11136)\n"
          ]
        },
        {
          "output_type": "stream",
          "name": "stderr",
          "text": [
            "\rProcessing mutation_percent = 0.4:  80%|████████  | 12/15 [00:40<00:09,  3.33s/it]"
          ]
        },
        {
          "output_type": "stream",
          "name": "stdout",
          "text": [
            "pop shape\n",
            "(8, 11136)\n",
            "looping berapa kali\n",
            "4\n",
            "parent shape\n",
            "(4, 11136)\n"
          ]
        },
        {
          "output_type": "stream",
          "name": "stderr",
          "text": [
            "\rProcessing mutation_percent = 0.4:  87%|████████▋ | 13/15 [00:44<00:06,  3.42s/it]"
          ]
        },
        {
          "output_type": "stream",
          "name": "stdout",
          "text": [
            "pop shape\n",
            "(8, 11136)\n",
            "looping berapa kali\n",
            "4\n",
            "parent shape\n",
            "(4, 11136)\n"
          ]
        },
        {
          "output_type": "stream",
          "name": "stderr",
          "text": [
            "\rProcessing mutation_percent = 0.4:  93%|█████████▎| 14/15 [00:48<00:03,  3.55s/it]"
          ]
        },
        {
          "output_type": "stream",
          "name": "stdout",
          "text": [
            "pop shape\n",
            "(8, 11136)\n",
            "looping berapa kali\n",
            "4\n",
            "parent shape\n",
            "(4, 11136)\n"
          ]
        },
        {
          "output_type": "stream",
          "name": "stderr",
          "text": [
            "                                                                                  "
          ]
        },
        {
          "output_type": "stream",
          "name": "stdout",
          "text": [
            "pop shape\n",
            "(8, 11136)\n",
            "looping berapa kali\n",
            "4\n",
            "parent shape\n",
            "(4, 11136)\n"
          ]
        },
        {
          "output_type": "stream",
          "name": "stderr",
          "text": [
            "Processing mutation_percent = 0.5:   7%|▋         | 1/15 [00:03<00:45,  3.26s/it]"
          ]
        },
        {
          "output_type": "stream",
          "name": "stdout",
          "text": [
            "pop shape\n",
            "(8, 11136)\n",
            "looping berapa kali\n",
            "4\n",
            "parent shape\n",
            "(4, 11136)\n"
          ]
        },
        {
          "output_type": "stream",
          "name": "stderr",
          "text": [
            "\rProcessing mutation_percent = 0.5:  13%|█▎        | 2/15 [00:06<00:40,  3.09s/it]"
          ]
        },
        {
          "output_type": "stream",
          "name": "stdout",
          "text": [
            "pop shape\n",
            "(8, 11136)\n",
            "looping berapa kali\n",
            "4\n",
            "parent shape\n",
            "(4, 11136)\n"
          ]
        },
        {
          "output_type": "stream",
          "name": "stderr",
          "text": [
            "\rProcessing mutation_percent = 0.5:  20%|██        | 3/15 [00:09<00:39,  3.29s/it]"
          ]
        },
        {
          "output_type": "stream",
          "name": "stdout",
          "text": [
            "pop shape\n",
            "(8, 11136)\n",
            "looping berapa kali\n",
            "4\n",
            "parent shape\n",
            "(4, 11136)\n"
          ]
        },
        {
          "output_type": "stream",
          "name": "stderr",
          "text": [
            "\rProcessing mutation_percent = 0.5:  27%|██▋       | 4/15 [00:13<00:38,  3.48s/it]"
          ]
        },
        {
          "output_type": "stream",
          "name": "stdout",
          "text": [
            "pop shape\n",
            "(8, 11136)\n",
            "looping berapa kali\n",
            "4\n",
            "parent shape\n",
            "(4, 11136)\n"
          ]
        },
        {
          "output_type": "stream",
          "name": "stderr",
          "text": [
            "\rProcessing mutation_percent = 0.5:  33%|███▎      | 5/15 [00:17<00:35,  3.54s/it]"
          ]
        },
        {
          "output_type": "stream",
          "name": "stdout",
          "text": [
            "pop shape\n",
            "(8, 11136)\n",
            "looping berapa kali\n",
            "4\n",
            "parent shape\n",
            "(4, 11136)\n"
          ]
        },
        {
          "output_type": "stream",
          "name": "stderr",
          "text": [
            "\rProcessing mutation_percent = 0.5:  40%|████      | 6/15 [00:20<00:31,  3.47s/it]"
          ]
        },
        {
          "output_type": "stream",
          "name": "stdout",
          "text": [
            "pop shape\n",
            "(8, 11136)\n",
            "looping berapa kali\n",
            "4\n",
            "parent shape\n",
            "(4, 11136)\n"
          ]
        },
        {
          "output_type": "stream",
          "name": "stderr",
          "text": [
            "\rProcessing mutation_percent = 0.5:  47%|████▋     | 7/15 [00:23<00:27,  3.42s/it]"
          ]
        },
        {
          "output_type": "stream",
          "name": "stdout",
          "text": [
            "pop shape\n",
            "(8, 11136)\n",
            "looping berapa kali\n",
            "4\n",
            "parent shape\n",
            "(4, 11136)\n"
          ]
        },
        {
          "output_type": "stream",
          "name": "stderr",
          "text": [
            "\rProcessing mutation_percent = 0.5:  53%|█████▎    | 8/15 [00:27<00:23,  3.39s/it]"
          ]
        },
        {
          "output_type": "stream",
          "name": "stdout",
          "text": [
            "pop shape\n",
            "(8, 11136)\n",
            "looping berapa kali\n",
            "4\n",
            "parent shape\n",
            "(4, 11136)\n"
          ]
        },
        {
          "output_type": "stream",
          "name": "stderr",
          "text": [
            "\rProcessing mutation_percent = 0.5:  60%|██████    | 9/15 [00:30<00:20,  3.48s/it]"
          ]
        },
        {
          "output_type": "stream",
          "name": "stdout",
          "text": [
            "pop shape\n",
            "(8, 11136)\n",
            "looping berapa kali\n",
            "4\n",
            "parent shape\n",
            "(4, 11136)\n"
          ]
        },
        {
          "output_type": "stream",
          "name": "stderr",
          "text": [
            "\rProcessing mutation_percent = 0.5:  67%|██████▋   | 10/15 [00:34<00:17,  3.52s/it]"
          ]
        },
        {
          "output_type": "stream",
          "name": "stdout",
          "text": [
            "pop shape\n",
            "(8, 11136)\n",
            "looping berapa kali\n",
            "4\n",
            "parent shape\n",
            "(4, 11136)\n"
          ]
        },
        {
          "output_type": "stream",
          "name": "stderr",
          "text": [
            "\rProcessing mutation_percent = 0.5:  73%|███████▎  | 11/15 [00:37<00:13,  3.46s/it]"
          ]
        },
        {
          "output_type": "stream",
          "name": "stdout",
          "text": [
            "pop shape\n",
            "(8, 11136)\n",
            "looping berapa kali\n",
            "4\n",
            "parent shape\n",
            "(4, 11136)\n"
          ]
        },
        {
          "output_type": "stream",
          "name": "stderr",
          "text": [
            "\rProcessing mutation_percent = 0.5:  80%|████████  | 12/15 [00:40<00:09,  3.27s/it]"
          ]
        },
        {
          "output_type": "stream",
          "name": "stdout",
          "text": [
            "pop shape\n",
            "(8, 11136)\n",
            "looping berapa kali\n",
            "4\n",
            "parent shape\n",
            "(4, 11136)\n"
          ]
        },
        {
          "output_type": "stream",
          "name": "stderr",
          "text": [
            "\rProcessing mutation_percent = 0.5:  87%|████████▋ | 13/15 [00:44<00:06,  3.38s/it]"
          ]
        },
        {
          "output_type": "stream",
          "name": "stdout",
          "text": [
            "pop shape\n",
            "(8, 11136)\n",
            "looping berapa kali\n",
            "4\n",
            "parent shape\n",
            "(4, 11136)\n"
          ]
        },
        {
          "output_type": "stream",
          "name": "stderr",
          "text": [
            "\rProcessing mutation_percent = 0.5:  93%|█████████▎| 14/15 [00:48<00:03,  3.53s/it]"
          ]
        },
        {
          "output_type": "stream",
          "name": "stdout",
          "text": [
            "pop shape\n",
            "(8, 11136)\n",
            "looping berapa kali\n",
            "4\n",
            "parent shape\n",
            "(4, 11136)\n"
          ]
        },
        {
          "output_type": "stream",
          "name": "stderr",
          "text": [
            "                                                                                  "
          ]
        },
        {
          "output_type": "stream",
          "name": "stdout",
          "text": [
            "pop shape\n",
            "(8, 11136)\n",
            "looping berapa kali\n",
            "4\n",
            "parent shape\n",
            "(4, 11136)\n"
          ]
        },
        {
          "output_type": "stream",
          "name": "stderr",
          "text": [
            "Processing mutation_percent = 0.6:   7%|▋         | 1/15 [00:03<00:50,  3.62s/it]"
          ]
        },
        {
          "output_type": "stream",
          "name": "stdout",
          "text": [
            "pop shape\n",
            "(8, 11136)\n",
            "looping berapa kali\n",
            "4\n",
            "parent shape\n",
            "(4, 11136)\n"
          ]
        },
        {
          "output_type": "stream",
          "name": "stderr",
          "text": [
            "\rProcessing mutation_percent = 0.6:  13%|█▎        | 2/15 [00:06<00:44,  3.40s/it]"
          ]
        },
        {
          "output_type": "stream",
          "name": "stdout",
          "text": [
            "pop shape\n",
            "(8, 11136)\n",
            "looping berapa kali\n",
            "4\n",
            "parent shape\n",
            "(4, 11136)\n"
          ]
        },
        {
          "output_type": "stream",
          "name": "stderr",
          "text": [
            "\rProcessing mutation_percent = 0.6:  20%|██        | 3/15 [00:10<00:42,  3.54s/it]"
          ]
        },
        {
          "output_type": "stream",
          "name": "stdout",
          "text": [
            "pop shape\n",
            "(8, 11136)\n",
            "looping berapa kali\n",
            "4\n",
            "parent shape\n",
            "(4, 11136)\n"
          ]
        },
        {
          "output_type": "stream",
          "name": "stderr",
          "text": [
            "\rProcessing mutation_percent = 0.6:  27%|██▋       | 4/15 [00:14<00:40,  3.68s/it]"
          ]
        },
        {
          "output_type": "stream",
          "name": "stdout",
          "text": [
            "pop shape\n",
            "(8, 11136)\n",
            "looping berapa kali\n",
            "4\n",
            "parent shape\n",
            "(4, 11136)\n"
          ]
        },
        {
          "output_type": "stream",
          "name": "stderr",
          "text": [
            "\rProcessing mutation_percent = 0.6:  33%|███▎      | 5/15 [00:18<00:36,  3.66s/it]"
          ]
        },
        {
          "output_type": "stream",
          "name": "stdout",
          "text": [
            "pop shape\n",
            "(8, 11136)\n",
            "looping berapa kali\n",
            "4\n",
            "parent shape\n",
            "(4, 11136)\n"
          ]
        },
        {
          "output_type": "stream",
          "name": "stderr",
          "text": [
            "\rProcessing mutation_percent = 0.6:  40%|████      | 6/15 [00:21<00:31,  3.55s/it]"
          ]
        },
        {
          "output_type": "stream",
          "name": "stdout",
          "text": [
            "pop shape\n",
            "(8, 11136)\n",
            "looping berapa kali\n",
            "4\n",
            "parent shape\n",
            "(4, 11136)\n"
          ]
        },
        {
          "output_type": "stream",
          "name": "stderr",
          "text": [
            "\rProcessing mutation_percent = 0.6:  47%|████▋     | 7/15 [00:24<00:27,  3.40s/it]"
          ]
        },
        {
          "output_type": "stream",
          "name": "stdout",
          "text": [
            "pop shape\n",
            "(8, 11136)\n",
            "looping berapa kali\n",
            "4\n",
            "parent shape\n",
            "(4, 11136)\n"
          ]
        },
        {
          "output_type": "stream",
          "name": "stderr",
          "text": [
            "\rProcessing mutation_percent = 0.6:  53%|█████▎    | 8/15 [00:27<00:23,  3.29s/it]"
          ]
        },
        {
          "output_type": "stream",
          "name": "stdout",
          "text": [
            "pop shape\n",
            "(8, 11136)\n",
            "looping berapa kali\n",
            "4\n",
            "parent shape\n",
            "(4, 11136)\n"
          ]
        },
        {
          "output_type": "stream",
          "name": "stderr",
          "text": [
            "\rProcessing mutation_percent = 0.6:  60%|██████    | 9/15 [00:31<00:20,  3.44s/it]"
          ]
        },
        {
          "output_type": "stream",
          "name": "stdout",
          "text": [
            "pop shape\n",
            "(8, 11136)\n",
            "looping berapa kali\n",
            "4\n",
            "parent shape\n",
            "(4, 11136)\n"
          ]
        },
        {
          "output_type": "stream",
          "name": "stderr",
          "text": [
            "\rProcessing mutation_percent = 0.6:  67%|██████▋   | 10/15 [00:35<00:17,  3.55s/it]"
          ]
        },
        {
          "output_type": "stream",
          "name": "stdout",
          "text": [
            "pop shape\n",
            "(8, 11136)\n",
            "looping berapa kali\n",
            "4\n",
            "parent shape\n",
            "(4, 11136)\n"
          ]
        },
        {
          "output_type": "stream",
          "name": "stderr",
          "text": [
            "\rProcessing mutation_percent = 0.6:  73%|███████▎  | 11/15 [00:38<00:13,  3.49s/it]"
          ]
        },
        {
          "output_type": "stream",
          "name": "stdout",
          "text": [
            "pop shape\n",
            "(8, 11136)\n",
            "looping berapa kali\n",
            "4\n",
            "parent shape\n",
            "(4, 11136)\n"
          ]
        },
        {
          "output_type": "stream",
          "name": "stderr",
          "text": [
            "\rProcessing mutation_percent = 0.6:  80%|████████  | 12/15 [00:41<00:10,  3.47s/it]"
          ]
        },
        {
          "output_type": "stream",
          "name": "stdout",
          "text": [
            "pop shape\n",
            "(8, 11136)\n",
            "looping berapa kali\n",
            "4\n",
            "parent shape\n",
            "(4, 11136)\n"
          ]
        },
        {
          "output_type": "stream",
          "name": "stderr",
          "text": [
            "\rProcessing mutation_percent = 0.6:  87%|████████▋ | 13/15 [00:45<00:06,  3.37s/it]"
          ]
        },
        {
          "output_type": "stream",
          "name": "stdout",
          "text": [
            "pop shape\n",
            "(8, 11136)\n",
            "looping berapa kali\n",
            "4\n",
            "parent shape\n",
            "(4, 11136)\n"
          ]
        },
        {
          "output_type": "stream",
          "name": "stderr",
          "text": [
            "\rProcessing mutation_percent = 0.6:  93%|█████████▎| 14/15 [00:48<00:03,  3.50s/it]"
          ]
        },
        {
          "output_type": "stream",
          "name": "stdout",
          "text": [
            "pop shape\n",
            "(8, 11136)\n",
            "looping berapa kali\n",
            "4\n",
            "parent shape\n",
            "(4, 11136)\n"
          ]
        },
        {
          "output_type": "stream",
          "name": "stderr",
          "text": [
            "                                                                                  "
          ]
        },
        {
          "output_type": "stream",
          "name": "stdout",
          "text": [
            "pop shape\n",
            "(8, 11136)\n",
            "looping berapa kali\n",
            "4\n",
            "parent shape\n",
            "(4, 11136)\n"
          ]
        },
        {
          "output_type": "stream",
          "name": "stderr",
          "text": [
            "Processing mutation_percent = 0.7:   7%|▋         | 1/15 [00:03<00:50,  3.58s/it]"
          ]
        },
        {
          "output_type": "stream",
          "name": "stdout",
          "text": [
            "pop shape\n",
            "(8, 11136)\n",
            "looping berapa kali\n",
            "4\n",
            "parent shape\n",
            "(4, 11136)\n"
          ]
        },
        {
          "output_type": "stream",
          "name": "stderr",
          "text": [
            "\rProcessing mutation_percent = 0.7:  13%|█▎        | 2/15 [00:06<00:45,  3.47s/it]"
          ]
        },
        {
          "output_type": "stream",
          "name": "stdout",
          "text": [
            "pop shape\n",
            "(8, 11136)\n",
            "looping berapa kali\n",
            "4\n",
            "parent shape\n",
            "(4, 11136)\n"
          ]
        },
        {
          "output_type": "stream",
          "name": "stderr",
          "text": [
            "\rProcessing mutation_percent = 0.7:  20%|██        | 3/15 [00:10<00:41,  3.43s/it]"
          ]
        },
        {
          "output_type": "stream",
          "name": "stdout",
          "text": [
            "pop shape\n",
            "(8, 11136)\n",
            "looping berapa kali\n",
            "4\n",
            "parent shape\n",
            "(4, 11136)\n"
          ]
        },
        {
          "output_type": "stream",
          "name": "stderr",
          "text": [
            "\rProcessing mutation_percent = 0.7:  27%|██▋       | 4/15 [00:14<00:39,  3.62s/it]"
          ]
        },
        {
          "output_type": "stream",
          "name": "stdout",
          "text": [
            "pop shape\n",
            "(8, 11136)\n",
            "looping berapa kali\n",
            "4\n",
            "parent shape\n",
            "(4, 11136)\n"
          ]
        },
        {
          "output_type": "stream",
          "name": "stderr",
          "text": [
            "\rProcessing mutation_percent = 0.7:  33%|███▎      | 5/15 [00:18<00:37,  3.73s/it]"
          ]
        },
        {
          "output_type": "stream",
          "name": "stdout",
          "text": [
            "pop shape\n",
            "(8, 11136)\n",
            "looping berapa kali\n",
            "4\n",
            "parent shape\n",
            "(4, 11136)\n"
          ]
        },
        {
          "output_type": "stream",
          "name": "stderr",
          "text": [
            "\rProcessing mutation_percent = 0.7:  40%|████      | 6/15 [00:21<00:33,  3.68s/it]"
          ]
        },
        {
          "output_type": "stream",
          "name": "stdout",
          "text": [
            "pop shape\n",
            "(8, 11136)\n",
            "looping berapa kali\n",
            "4\n",
            "parent shape\n",
            "(4, 11136)\n"
          ]
        },
        {
          "output_type": "stream",
          "name": "stderr",
          "text": [
            "\rProcessing mutation_percent = 0.7:  47%|████▋     | 7/15 [00:24<00:28,  3.52s/it]"
          ]
        },
        {
          "output_type": "stream",
          "name": "stdout",
          "text": [
            "pop shape\n",
            "(8, 11136)\n",
            "looping berapa kali\n",
            "4\n",
            "parent shape\n",
            "(4, 11136)\n"
          ]
        },
        {
          "output_type": "stream",
          "name": "stderr",
          "text": [
            "\rProcessing mutation_percent = 0.7:  53%|█████▎    | 8/15 [00:28<00:23,  3.40s/it]"
          ]
        },
        {
          "output_type": "stream",
          "name": "stdout",
          "text": [
            "pop shape\n",
            "(8, 11136)\n",
            "looping berapa kali\n",
            "4\n",
            "parent shape\n",
            "(4, 11136)\n"
          ]
        },
        {
          "output_type": "stream",
          "name": "stderr",
          "text": [
            "\rProcessing mutation_percent = 0.7:  60%|██████    | 9/15 [00:31<00:21,  3.53s/it]"
          ]
        },
        {
          "output_type": "stream",
          "name": "stdout",
          "text": [
            "pop shape\n",
            "(8, 11136)\n",
            "looping berapa kali\n",
            "4\n",
            "parent shape\n",
            "(4, 11136)\n"
          ]
        },
        {
          "output_type": "stream",
          "name": "stderr",
          "text": [
            "\rProcessing mutation_percent = 0.7:  67%|██████▋   | 10/15 [00:35<00:18,  3.60s/it]"
          ]
        },
        {
          "output_type": "stream",
          "name": "stdout",
          "text": [
            "pop shape\n",
            "(8, 11136)\n",
            "looping berapa kali\n",
            "4\n",
            "parent shape\n",
            "(4, 11136)\n"
          ]
        },
        {
          "output_type": "stream",
          "name": "stderr",
          "text": [
            "\rProcessing mutation_percent = 0.7:  73%|███████▎  | 11/15 [00:39<00:14,  3.57s/it]"
          ]
        },
        {
          "output_type": "stream",
          "name": "stdout",
          "text": [
            "pop shape\n",
            "(8, 11136)\n",
            "looping berapa kali\n",
            "4\n",
            "parent shape\n",
            "(4, 11136)\n"
          ]
        },
        {
          "output_type": "stream",
          "name": "stderr",
          "text": [
            "\rProcessing mutation_percent = 0.7:  80%|████████  | 12/15 [00:42<00:10,  3.36s/it]"
          ]
        },
        {
          "output_type": "stream",
          "name": "stdout",
          "text": [
            "pop shape\n",
            "(8, 11136)\n",
            "looping berapa kali\n",
            "4\n",
            "parent shape\n",
            "(4, 11136)\n"
          ]
        },
        {
          "output_type": "stream",
          "name": "stderr",
          "text": [
            "\rProcessing mutation_percent = 0.7:  87%|████████▋ | 13/15 [00:45<00:06,  3.35s/it]"
          ]
        },
        {
          "output_type": "stream",
          "name": "stdout",
          "text": [
            "pop shape\n",
            "(8, 11136)\n",
            "looping berapa kali\n",
            "4\n",
            "parent shape\n",
            "(4, 11136)\n"
          ]
        },
        {
          "output_type": "stream",
          "name": "stderr",
          "text": [
            "\rProcessing mutation_percent = 0.7:  93%|█████████▎| 14/15 [00:49<00:03,  3.44s/it]"
          ]
        },
        {
          "output_type": "stream",
          "name": "stdout",
          "text": [
            "pop shape\n",
            "(8, 11136)\n",
            "looping berapa kali\n",
            "4\n",
            "parent shape\n",
            "(4, 11136)\n"
          ]
        },
        {
          "output_type": "stream",
          "name": "stderr",
          "text": [
            "                                                                                  "
          ]
        },
        {
          "output_type": "stream",
          "name": "stdout",
          "text": [
            "pop shape\n",
            "(8, 11136)\n",
            "looping berapa kali\n",
            "4\n",
            "parent shape\n",
            "(4, 11136)\n"
          ]
        },
        {
          "output_type": "stream",
          "name": "stderr",
          "text": [
            "Processing mutation_percent = 0.8:   7%|▋         | 1/15 [00:03<00:52,  3.77s/it]"
          ]
        },
        {
          "output_type": "stream",
          "name": "stdout",
          "text": [
            "pop shape\n",
            "(8, 11136)\n",
            "looping berapa kali\n",
            "4\n",
            "parent shape\n",
            "(4, 11136)\n"
          ]
        },
        {
          "output_type": "stream",
          "name": "stderr",
          "text": [
            "\rProcessing mutation_percent = 0.8:  13%|█▎        | 2/15 [00:07<00:45,  3.47s/it]"
          ]
        },
        {
          "output_type": "stream",
          "name": "stdout",
          "text": [
            "pop shape\n",
            "(8, 11136)\n",
            "looping berapa kali\n",
            "4\n",
            "parent shape\n",
            "(4, 11136)\n"
          ]
        },
        {
          "output_type": "stream",
          "name": "stderr",
          "text": [
            "\rProcessing mutation_percent = 0.8:  20%|██        | 3/15 [00:10<00:38,  3.24s/it]"
          ]
        },
        {
          "output_type": "stream",
          "name": "stdout",
          "text": [
            "pop shape\n",
            "(8, 11136)\n",
            "looping berapa kali\n",
            "4\n",
            "parent shape\n",
            "(4, 11136)\n"
          ]
        },
        {
          "output_type": "stream",
          "name": "stderr",
          "text": [
            "\rProcessing mutation_percent = 0.8:  27%|██▋       | 4/15 [00:13<00:37,  3.44s/it]"
          ]
        },
        {
          "output_type": "stream",
          "name": "stdout",
          "text": [
            "pop shape\n",
            "(8, 11136)\n",
            "looping berapa kali\n",
            "4\n",
            "parent shape\n",
            "(4, 11136)\n"
          ]
        },
        {
          "output_type": "stream",
          "name": "stderr",
          "text": [
            "\rProcessing mutation_percent = 0.8:  33%|███▎      | 5/15 [00:17<00:35,  3.59s/it]"
          ]
        },
        {
          "output_type": "stream",
          "name": "stdout",
          "text": [
            "pop shape\n",
            "(8, 11136)\n",
            "looping berapa kali\n",
            "4\n",
            "parent shape\n",
            "(4, 11136)\n"
          ]
        },
        {
          "output_type": "stream",
          "name": "stderr",
          "text": [
            "\rProcessing mutation_percent = 0.8:  40%|████      | 6/15 [00:20<00:31,  3.46s/it]"
          ]
        },
        {
          "output_type": "stream",
          "name": "stdout",
          "text": [
            "pop shape\n",
            "(8, 11136)\n",
            "looping berapa kali\n",
            "4\n",
            "parent shape\n",
            "(4, 11136)\n"
          ]
        },
        {
          "output_type": "stream",
          "name": "stderr",
          "text": [
            "\rProcessing mutation_percent = 0.8:  47%|████▋     | 7/15 [00:23<00:26,  3.28s/it]"
          ]
        },
        {
          "output_type": "stream",
          "name": "stdout",
          "text": [
            "pop shape\n",
            "(8, 11136)\n",
            "looping berapa kali\n",
            "4\n",
            "parent shape\n",
            "(4, 11136)\n"
          ]
        },
        {
          "output_type": "stream",
          "name": "stderr",
          "text": [
            "\rProcessing mutation_percent = 0.8:  53%|█████▎    | 8/15 [00:26<00:22,  3.23s/it]"
          ]
        },
        {
          "output_type": "stream",
          "name": "stdout",
          "text": [
            "pop shape\n",
            "(8, 11136)\n",
            "looping berapa kali\n",
            "4\n",
            "parent shape\n",
            "(4, 11136)\n"
          ]
        },
        {
          "output_type": "stream",
          "name": "stderr",
          "text": [
            "\rProcessing mutation_percent = 0.8:  60%|██████    | 9/15 [00:29<00:18,  3.16s/it]"
          ]
        },
        {
          "output_type": "stream",
          "name": "stdout",
          "text": [
            "pop shape\n",
            "(8, 11136)\n",
            "looping berapa kali\n",
            "4\n",
            "parent shape\n",
            "(4, 11136)\n"
          ]
        },
        {
          "output_type": "stream",
          "name": "stderr",
          "text": [
            "\rProcessing mutation_percent = 0.8:  67%|██████▋   | 10/15 [00:33<00:16,  3.33s/it]"
          ]
        },
        {
          "output_type": "stream",
          "name": "stdout",
          "text": [
            "pop shape\n",
            "(8, 11136)\n",
            "looping berapa kali\n",
            "4\n",
            "parent shape\n",
            "(4, 11136)\n"
          ]
        },
        {
          "output_type": "stream",
          "name": "stderr",
          "text": [
            "\rProcessing mutation_percent = 0.8:  73%|███████▎  | 11/15 [00:37<00:13,  3.47s/it]"
          ]
        },
        {
          "output_type": "stream",
          "name": "stdout",
          "text": [
            "pop shape\n",
            "(8, 11136)\n",
            "looping berapa kali\n",
            "4\n",
            "parent shape\n",
            "(4, 11136)\n"
          ]
        },
        {
          "output_type": "stream",
          "name": "stderr",
          "text": [
            "\rProcessing mutation_percent = 0.8:  80%|████████  | 12/15 [00:40<00:10,  3.36s/it]"
          ]
        },
        {
          "output_type": "stream",
          "name": "stdout",
          "text": [
            "pop shape\n",
            "(8, 11136)\n",
            "looping berapa kali\n",
            "4\n",
            "parent shape\n",
            "(4, 11136)\n"
          ]
        },
        {
          "output_type": "stream",
          "name": "stderr",
          "text": [
            "\rProcessing mutation_percent = 0.8:  87%|████████▋ | 13/15 [00:43<00:06,  3.34s/it]"
          ]
        },
        {
          "output_type": "stream",
          "name": "stdout",
          "text": [
            "pop shape\n",
            "(8, 11136)\n",
            "looping berapa kali\n",
            "4\n",
            "parent shape\n",
            "(4, 11136)\n"
          ]
        },
        {
          "output_type": "stream",
          "name": "stderr",
          "text": [
            "\rProcessing mutation_percent = 0.8:  93%|█████████▎| 14/15 [00:47<00:03,  3.41s/it]"
          ]
        },
        {
          "output_type": "stream",
          "name": "stdout",
          "text": [
            "pop shape\n",
            "(8, 11136)\n",
            "looping berapa kali\n",
            "4\n",
            "parent shape\n",
            "(4, 11136)\n"
          ]
        },
        {
          "output_type": "stream",
          "name": "stderr",
          "text": [
            "                                                                                  "
          ]
        },
        {
          "output_type": "stream",
          "name": "stdout",
          "text": [
            "pop shape\n",
            "(8, 11136)\n",
            "looping berapa kali\n",
            "4\n",
            "parent shape\n",
            "(4, 11136)\n"
          ]
        },
        {
          "output_type": "stream",
          "name": "stderr",
          "text": [
            "Processing mutation_percent = 0.9:   7%|▋         | 1/15 [00:03<00:54,  3.86s/it]"
          ]
        },
        {
          "output_type": "stream",
          "name": "stdout",
          "text": [
            "pop shape\n",
            "(8, 11136)\n",
            "looping berapa kali\n",
            "4\n",
            "parent shape\n",
            "(4, 11136)\n"
          ]
        },
        {
          "output_type": "stream",
          "name": "stderr",
          "text": [
            "\rProcessing mutation_percent = 0.9:  13%|█▎        | 2/15 [00:07<00:46,  3.55s/it]"
          ]
        },
        {
          "output_type": "stream",
          "name": "stdout",
          "text": [
            "pop shape\n",
            "(8, 11136)\n",
            "looping berapa kali\n",
            "4\n",
            "parent shape\n",
            "(4, 11136)\n"
          ]
        },
        {
          "output_type": "stream",
          "name": "stderr",
          "text": [
            "\rProcessing mutation_percent = 0.9:  20%|██        | 3/15 [00:10<00:42,  3.50s/it]"
          ]
        },
        {
          "output_type": "stream",
          "name": "stdout",
          "text": [
            "pop shape\n",
            "(8, 11136)\n",
            "looping berapa kali\n",
            "4\n",
            "parent shape\n",
            "(4, 11136)\n"
          ]
        },
        {
          "output_type": "stream",
          "name": "stderr",
          "text": [
            "\rProcessing mutation_percent = 0.9:  27%|██▋       | 4/15 [00:13<00:37,  3.44s/it]"
          ]
        },
        {
          "output_type": "stream",
          "name": "stdout",
          "text": [
            "pop shape\n",
            "(8, 11136)\n",
            "looping berapa kali\n",
            "4\n",
            "parent shape\n",
            "(4, 11136)\n"
          ]
        },
        {
          "output_type": "stream",
          "name": "stderr",
          "text": [
            "\rProcessing mutation_percent = 0.9:  33%|███▎      | 5/15 [00:17<00:35,  3.55s/it]"
          ]
        },
        {
          "output_type": "stream",
          "name": "stdout",
          "text": [
            "pop shape\n",
            "(8, 11136)\n",
            "looping berapa kali\n",
            "4\n",
            "parent shape\n",
            "(4, 11136)\n"
          ]
        },
        {
          "output_type": "stream",
          "name": "stderr",
          "text": [
            "\rProcessing mutation_percent = 0.9:  40%|████      | 6/15 [00:21<00:32,  3.63s/it]"
          ]
        },
        {
          "output_type": "stream",
          "name": "stdout",
          "text": [
            "pop shape\n",
            "(8, 11136)\n",
            "looping berapa kali\n",
            "4\n",
            "parent shape\n",
            "(4, 11136)\n"
          ]
        },
        {
          "output_type": "stream",
          "name": "stderr",
          "text": [
            "\rProcessing mutation_percent = 0.9:  47%|████▋     | 7/15 [00:24<00:28,  3.53s/it]"
          ]
        },
        {
          "output_type": "stream",
          "name": "stdout",
          "text": [
            "pop shape\n",
            "(8, 11136)\n",
            "looping berapa kali\n",
            "4\n",
            "parent shape\n",
            "(4, 11136)\n"
          ]
        },
        {
          "output_type": "stream",
          "name": "stderr",
          "text": [
            "\rProcessing mutation_percent = 0.9:  53%|█████▎    | 8/15 [00:28<00:24,  3.45s/it]"
          ]
        },
        {
          "output_type": "stream",
          "name": "stdout",
          "text": [
            "pop shape\n",
            "(8, 11136)\n",
            "looping berapa kali\n",
            "4\n",
            "parent shape\n",
            "(4, 11136)\n"
          ]
        },
        {
          "output_type": "stream",
          "name": "stderr",
          "text": [
            "\rProcessing mutation_percent = 0.9:  60%|██████    | 9/15 [00:31<00:20,  3.34s/it]"
          ]
        },
        {
          "output_type": "stream",
          "name": "stdout",
          "text": [
            "pop shape\n",
            "(8, 11136)\n",
            "looping berapa kali\n",
            "4\n",
            "parent shape\n",
            "(4, 11136)\n"
          ]
        },
        {
          "output_type": "stream",
          "name": "stderr",
          "text": [
            "\rProcessing mutation_percent = 0.9:  67%|██████▋   | 10/15 [00:34<00:17,  3.45s/it]"
          ]
        },
        {
          "output_type": "stream",
          "name": "stdout",
          "text": [
            "pop shape\n",
            "(8, 11136)\n",
            "looping berapa kali\n",
            "4\n",
            "parent shape\n",
            "(4, 11136)\n"
          ]
        },
        {
          "output_type": "stream",
          "name": "stderr",
          "text": [
            "\rProcessing mutation_percent = 0.9:  73%|███████▎  | 11/15 [00:38<00:14,  3.53s/it]"
          ]
        },
        {
          "output_type": "stream",
          "name": "stdout",
          "text": [
            "pop shape\n",
            "(8, 11136)\n",
            "looping berapa kali\n",
            "4\n",
            "parent shape\n",
            "(4, 11136)\n"
          ]
        },
        {
          "output_type": "stream",
          "name": "stderr",
          "text": [
            "\rProcessing mutation_percent = 0.9:  80%|████████  | 12/15 [00:42<00:10,  3.60s/it]"
          ]
        },
        {
          "output_type": "stream",
          "name": "stdout",
          "text": [
            "pop shape\n",
            "(8, 11136)\n",
            "looping berapa kali\n",
            "4\n",
            "parent shape\n",
            "(4, 11136)\n"
          ]
        },
        {
          "output_type": "stream",
          "name": "stderr",
          "text": [
            "\rProcessing mutation_percent = 0.9:  87%|████████▋ | 13/15 [00:45<00:06,  3.45s/it]"
          ]
        },
        {
          "output_type": "stream",
          "name": "stdout",
          "text": [
            "pop shape\n",
            "(8, 11136)\n",
            "looping berapa kali\n",
            "4\n",
            "parent shape\n",
            "(4, 11136)\n"
          ]
        },
        {
          "output_type": "stream",
          "name": "stderr",
          "text": [
            "\rProcessing mutation_percent = 0.9:  93%|█████████▎| 14/15 [00:48<00:03,  3.39s/it]"
          ]
        },
        {
          "output_type": "stream",
          "name": "stdout",
          "text": [
            "pop shape\n",
            "(8, 11136)\n",
            "looping berapa kali\n",
            "4\n",
            "parent shape\n",
            "(4, 11136)\n"
          ]
        },
        {
          "output_type": "stream",
          "name": "stderr",
          "text": [
            "                                                                                  "
          ]
        },
        {
          "output_type": "stream",
          "name": "stdout",
          "text": [
            "pop shape\n",
            "(8, 11136)\n",
            "looping berapa kali\n",
            "4\n",
            "parent shape\n",
            "(4, 11136)\n"
          ]
        },
        {
          "output_type": "stream",
          "name": "stderr",
          "text": [
            "Processing mutation_percent = 1.0:   7%|▋         | 1/15 [00:03<00:55,  3.96s/it]"
          ]
        },
        {
          "output_type": "stream",
          "name": "stdout",
          "text": [
            "pop shape\n",
            "(8, 11136)\n",
            "looping berapa kali\n",
            "4\n",
            "parent shape\n",
            "(4, 11136)\n"
          ]
        },
        {
          "output_type": "stream",
          "name": "stderr",
          "text": [
            "\rProcessing mutation_percent = 1.0:  13%|█▎        | 2/15 [00:06<00:42,  3.25s/it]"
          ]
        },
        {
          "output_type": "stream",
          "name": "stdout",
          "text": [
            "pop shape\n",
            "(8, 11136)\n",
            "looping berapa kali\n",
            "4\n",
            "parent shape\n",
            "(4, 11136)\n"
          ]
        },
        {
          "output_type": "stream",
          "name": "stderr",
          "text": [
            "\rProcessing mutation_percent = 1.0:  20%|██        | 3/15 [00:09<00:38,  3.21s/it]"
          ]
        },
        {
          "output_type": "stream",
          "name": "stdout",
          "text": [
            "pop shape\n",
            "(8, 11136)\n",
            "looping berapa kali\n",
            "4\n",
            "parent shape\n",
            "(4, 11136)\n"
          ]
        },
        {
          "output_type": "stream",
          "name": "stderr",
          "text": [
            "\rProcessing mutation_percent = 1.0:  27%|██▋       | 4/15 [00:12<00:34,  3.12s/it]"
          ]
        },
        {
          "output_type": "stream",
          "name": "stdout",
          "text": [
            "pop shape\n",
            "(8, 11136)\n",
            "looping berapa kali\n",
            "4\n",
            "parent shape\n",
            "(4, 11136)\n"
          ]
        },
        {
          "output_type": "stream",
          "name": "stderr",
          "text": [
            "\rProcessing mutation_percent = 1.0:  33%|███▎      | 5/15 [00:16<00:32,  3.21s/it]"
          ]
        },
        {
          "output_type": "stream",
          "name": "stdout",
          "text": [
            "pop shape\n",
            "(8, 11136)\n",
            "looping berapa kali\n",
            "4\n",
            "parent shape\n",
            "(4, 11136)\n"
          ]
        },
        {
          "output_type": "stream",
          "name": "stderr",
          "text": [
            "\rProcessing mutation_percent = 1.0:  40%|████      | 6/15 [00:19<00:30,  3.40s/it]"
          ]
        },
        {
          "output_type": "stream",
          "name": "stdout",
          "text": [
            "pop shape\n",
            "(8, 11136)\n",
            "looping berapa kali\n",
            "4\n",
            "parent shape\n",
            "(4, 11136)\n"
          ]
        },
        {
          "output_type": "stream",
          "name": "stderr",
          "text": [
            "\rProcessing mutation_percent = 1.0:  47%|████▋     | 7/15 [00:23<00:27,  3.45s/it]"
          ]
        },
        {
          "output_type": "stream",
          "name": "stdout",
          "text": [
            "pop shape\n",
            "(8, 11136)\n",
            "looping berapa kali\n",
            "4\n",
            "parent shape\n",
            "(4, 11136)\n"
          ]
        },
        {
          "output_type": "stream",
          "name": "stderr",
          "text": [
            "\rProcessing mutation_percent = 1.0:  53%|█████▎    | 8/15 [00:26<00:23,  3.42s/it]"
          ]
        },
        {
          "output_type": "stream",
          "name": "stdout",
          "text": [
            "pop shape\n",
            "(8, 11136)\n",
            "looping berapa kali\n",
            "4\n",
            "parent shape\n",
            "(4, 11136)\n"
          ]
        },
        {
          "output_type": "stream",
          "name": "stderr",
          "text": [
            "\rProcessing mutation_percent = 1.0:  60%|██████    | 9/15 [00:30<00:20,  3.35s/it]"
          ]
        },
        {
          "output_type": "stream",
          "name": "stdout",
          "text": [
            "pop shape\n",
            "(8, 11136)\n",
            "looping berapa kali\n",
            "4\n",
            "parent shape\n",
            "(4, 11136)\n"
          ]
        },
        {
          "output_type": "stream",
          "name": "stderr",
          "text": [
            "\rProcessing mutation_percent = 1.0:  67%|██████▋   | 10/15 [00:33<00:17,  3.45s/it]"
          ]
        },
        {
          "output_type": "stream",
          "name": "stdout",
          "text": [
            "pop shape\n",
            "(8, 11136)\n",
            "looping berapa kali\n",
            "4\n",
            "parent shape\n",
            "(4, 11136)\n"
          ]
        },
        {
          "output_type": "stream",
          "name": "stderr",
          "text": [
            "\rProcessing mutation_percent = 1.0:  73%|███████▎  | 11/15 [00:37<00:14,  3.54s/it]"
          ]
        },
        {
          "output_type": "stream",
          "name": "stdout",
          "text": [
            "pop shape\n",
            "(8, 11136)\n",
            "looping berapa kali\n",
            "4\n",
            "parent shape\n",
            "(4, 11136)\n"
          ]
        },
        {
          "output_type": "stream",
          "name": "stderr",
          "text": [
            "\rProcessing mutation_percent = 1.0:  80%|████████  | 12/15 [00:40<00:10,  3.50s/it]"
          ]
        },
        {
          "output_type": "stream",
          "name": "stdout",
          "text": [
            "pop shape\n",
            "(8, 11136)\n",
            "looping berapa kali\n",
            "4\n",
            "parent shape\n",
            "(4, 11136)\n"
          ]
        },
        {
          "output_type": "stream",
          "name": "stderr",
          "text": [
            "\rProcessing mutation_percent = 1.0:  87%|████████▋ | 13/15 [00:44<00:07,  3.51s/it]"
          ]
        },
        {
          "output_type": "stream",
          "name": "stdout",
          "text": [
            "pop shape\n",
            "(8, 11136)\n",
            "looping berapa kali\n",
            "4\n",
            "parent shape\n",
            "(4, 11136)\n"
          ]
        },
        {
          "output_type": "stream",
          "name": "stderr",
          "text": [
            "\rProcessing mutation_percent = 1.0:  93%|█████████▎| 14/15 [00:47<00:03,  3.42s/it]"
          ]
        },
        {
          "output_type": "stream",
          "name": "stdout",
          "text": [
            "pop shape\n",
            "(8, 11136)\n",
            "looping berapa kali\n",
            "4\n",
            "parent shape\n",
            "(4, 11136)\n"
          ]
        },
        {
          "output_type": "stream",
          "name": "stderr",
          "text": [
            "                                                                                  "
          ]
        },
        {
          "output_type": "stream",
          "name": "stdout",
          "text": [
            "pop shape\n",
            "(8, 11136)\n",
            "looping berapa kali\n",
            "4\n",
            "parent shape\n",
            "(4, 11136)\n"
          ]
        },
        {
          "output_type": "stream",
          "name": "stderr",
          "text": [
            "\r"
          ]
        },
        {
          "output_type": "display_data",
          "data": {
            "text/plain": [
              "<Figure size 640x480 with 1 Axes>"
            ],
            "image/png": "[encoded data removed]"
          },
          "metadata": {}
        }
      ]
    },
    {
      "cell_type": "code",
      "metadata": {
        "colab": {
          "base_uri": "https://localhost:8080/",
          "height": 0
        },
        "id": "xXwM4nUtnAvS",
        "outputId": "c11b6e48-d82a-43a1-bb33-47889869447a"
      },
      "source": [
        "(weights_vector.shape[0]-parents.shape[0], weights_vector.shape[1])"
      ],
      "execution_count": 20,
      "outputs": [
        {
          "output_type": "execute_result",
          "data": {
            "text/plain": [
              "(4, 11136)"
            ]
          },
          "metadata": {},
          "execution_count": 20
        }
      ]
    },
    {
      "cell_type": "code",
      "metadata": {
        "colab": {
          "base_uri": "https://localhost:8080/",
          "height": 0
        },
        "id": "i5cKyn7pnEt-",
        "outputId": "25db8abd-ed5b-49a1-9f2d-a476a7ed6eba"
      },
      "source": [
        "weights_vector.shape"
      ],
      "execution_count": 21,
      "outputs": [
        {
          "output_type": "execute_result",
          "data": {
            "text/plain": [
              "(8, 11136)"
            ]
          },
          "metadata": {},
          "execution_count": 21
        }
      ]
    },
    {
      "cell_type": "markdown",
      "metadata": {
        "id": "V2Ha6gmFTwMy"
      },
      "source": [
        "###Membuat model dengan mutation_percent terbaik:"
      ]
    },
    {
      "cell_type": "code",
      "metadata": {
        "colab": {
          "base_uri": "https://localhost:8080/",
          "height": 0
        },
        "id": "I7eyltnN-lgm",
        "outputId": "8b2bd422-02c7-4adf-da1a-8aaa36cd4d4c"
      },
      "source": [
        "#Split data train dan test\n",
        "x_train, x_test, y_train, y_test = train_test_split(df_encoded.to_numpy(), target_encoded, test_size = 0.20, random_state = 42)\n",
        "\n",
        "# Buat model dengan mutation_percent 0.1\n",
        "solution_per_population = 8\n",
        "num_parents_mating = 4\n",
        "num_generations = 20\n",
        "mutation_percent = 0.1\n",
        "\n",
        "input_shape = x_train.shape[1]\n",
        "output_shape = len(np.unique(y_train))\n",
        "\n",
        "# inisiasi weight\n",
        "initial_weights = []\n",
        "for curr_sol in np.arange(0, solution_per_population):\n",
        "\n",
        "    w1 = np.random.uniform(low=-0.1, high=0.1, size=(input_shape, 128))\n",
        "    w2 = np.random.uniform(low=-0.1, high=0.1, size=(128, 64))\n",
        "    w3 = np.random.uniform(low=-0.1, high=0.1,size=(64, output_shape))\n",
        "\n",
        "    initial_weights.append(np.array([w1, w2, w3]))\n",
        "\n",
        "weights_mat = np.array(initial_weights)\n",
        "weights_vector = mat_to_vector(weights_mat)\n",
        "\n",
        "best_outputs = []\n",
        "accuracies = np.empty(shape=(num_generations))\n",
        "\n",
        "# training\n",
        "for generation in tqdm(range(num_generations)):\n",
        "\n",
        "    # vector to matrix\n",
        "    weights_mat = vector_to_mat(weights_vector, weights_mat)\n",
        "\n",
        "    # fitness of the population\n",
        "    fit = fitness(x_train, y_train, weights_mat, activation=sigmoid)\n",
        "\n",
        "    # assign first fitness to the array\n",
        "    accuracies[generation] = fit[0]\n",
        "\n",
        "    # selecting mating parents from pool\n",
        "    parents = mating_pool(weights_vector, fit.copy(), num_parents_mating)\n",
        "\n",
        "    # generate new population using crossover\n",
        "    offspring_crossover = crossover(parents, offspring_size=(weights_vector.shape[0]-parents.shape[0], weights_vector.shape[1]))\n",
        "\n",
        "    # adding mutation to the population\n",
        "    offspring_mutation = mutation(offspring_crossover, mutation_percent=mutation_percent)\n",
        "\n",
        "    # new population combining parents of crossver and mut\n",
        "    weights_vector[0:parents.shape[0], :] = parents\n",
        "    weights_vector[parents.shape[0]:, :] = offspring_mutation\n",
        "\n",
        "weights_mat = vector_to_mat(weights_vector, weights_mat)\n",
        "best_weights = weights_mat [0, :]\n",
        "acc, predictions = predict(x_train, y_train, best_weights, sigmoid)\n",
        "print(\"Accuracy of the best solution is : \", acc)"
      ],
      "execution_count": 22,
      "outputs": [
        {
          "output_type": "stream",
          "name": "stderr",
          "text": [
            "  5%|▌         | 1/20 [00:05<01:40,  5.29s/it]"
          ]
        },
        {
          "output_type": "stream",
          "name": "stdout",
          "text": [
            "pop shape\n",
            "(8, 11136)\n",
            "looping berapa kali\n",
            "4\n",
            "parent shape\n",
            "(4, 11136)\n"
          ]
        },
        {
          "output_type": "stream",
          "name": "stderr",
          "text": [
            "\r 10%|█         | 2/20 [00:09<01:19,  4.40s/it]"
          ]
        },
        {
          "output_type": "stream",
          "name": "stdout",
          "text": [
            "pop shape\n",
            "(8, 11136)\n",
            "looping berapa kali\n",
            "4\n",
            "parent shape\n",
            "(4, 11136)\n"
          ]
        },
        {
          "output_type": "stream",
          "name": "stderr",
          "text": [
            "\r 15%|█▌        | 3/20 [00:12<01:10,  4.14s/it]"
          ]
        },
        {
          "output_type": "stream",
          "name": "stdout",
          "text": [
            "pop shape\n",
            "(8, 11136)\n",
            "looping berapa kali\n",
            "4\n",
            "parent shape\n",
            "(4, 11136)\n"
          ]
        },
        {
          "output_type": "stream",
          "name": "stderr",
          "text": [
            "\r 20%|██        | 4/20 [00:16<01:01,  3.85s/it]"
          ]
        },
        {
          "output_type": "stream",
          "name": "stdout",
          "text": [
            "pop shape\n",
            "(8, 11136)\n",
            "looping berapa kali\n",
            "4\n",
            "parent shape\n",
            "(4, 11136)\n"
          ]
        },
        {
          "output_type": "stream",
          "name": "stderr",
          "text": [
            "\r 25%|██▌       | 5/20 [00:19<00:56,  3.76s/it]"
          ]
        },
        {
          "output_type": "stream",
          "name": "stdout",
          "text": [
            "pop shape\n",
            "(8, 11136)\n",
            "looping berapa kali\n",
            "4\n",
            "parent shape\n",
            "(4, 11136)\n"
          ]
        },
        {
          "output_type": "stream",
          "name": "stderr",
          "text": [
            "\r 30%|███       | 6/20 [00:23<00:52,  3.74s/it]"
          ]
        },
        {
          "output_type": "stream",
          "name": "stdout",
          "text": [
            "pop shape\n",
            "(8, 11136)\n",
            "looping berapa kali\n",
            "4\n",
            "parent shape\n",
            "(4, 11136)\n"
          ]
        },
        {
          "output_type": "stream",
          "name": "stderr",
          "text": [
            "\r 35%|███▌      | 7/20 [00:27<00:48,  3.73s/it]"
          ]
        },
        {
          "output_type": "stream",
          "name": "stdout",
          "text": [
            "pop shape\n",
            "(8, 11136)\n",
            "looping berapa kali\n",
            "4\n",
            "parent shape\n",
            "(4, 11136)\n"
          ]
        },
        {
          "output_type": "stream",
          "name": "stderr",
          "text": [
            "\r 40%|████      | 8/20 [00:31<00:44,  3.73s/it]"
          ]
        },
        {
          "output_type": "stream",
          "name": "stdout",
          "text": [
            "pop shape\n",
            "(8, 11136)\n",
            "looping berapa kali\n",
            "4\n",
            "parent shape\n",
            "(4, 11136)\n"
          ]
        },
        {
          "output_type": "stream",
          "name": "stderr",
          "text": [
            "\r 45%|████▌     | 9/20 [00:34<00:39,  3.63s/it]"
          ]
        },
        {
          "output_type": "stream",
          "name": "stdout",
          "text": [
            "pop shape\n",
            "(8, 11136)\n",
            "looping berapa kali\n",
            "4\n",
            "parent shape\n",
            "(4, 11136)\n"
          ]
        },
        {
          "output_type": "stream",
          "name": "stderr",
          "text": [
            "\r 50%|█████     | 10/20 [00:37<00:35,  3.55s/it]"
          ]
        },
        {
          "output_type": "stream",
          "name": "stdout",
          "text": [
            "pop shape\n",
            "(8, 11136)\n",
            "looping berapa kali\n",
            "4\n",
            "parent shape\n",
            "(4, 11136)\n"
          ]
        },
        {
          "output_type": "stream",
          "name": "stderr",
          "text": [
            "\r 55%|█████▌    | 11/20 [00:40<00:30,  3.36s/it]"
          ]
        },
        {
          "output_type": "stream",
          "name": "stdout",
          "text": [
            "pop shape\n",
            "(8, 11136)\n",
            "looping berapa kali\n",
            "4\n",
            "parent shape\n",
            "(4, 11136)\n"
          ]
        },
        {
          "output_type": "stream",
          "name": "stderr",
          "text": [
            "\r 60%|██████    | 12/20 [00:44<00:27,  3.40s/it]"
          ]
        },
        {
          "output_type": "stream",
          "name": "stdout",
          "text": [
            "pop shape\n",
            "(8, 11136)\n",
            "looping berapa kali\n",
            "4\n",
            "parent shape\n",
            "(4, 11136)\n"
          ]
        },
        {
          "output_type": "stream",
          "name": "stderr",
          "text": [
            "\r 65%|██████▌   | 13/20 [00:48<00:24,  3.54s/it]"
          ]
        },
        {
          "output_type": "stream",
          "name": "stdout",
          "text": [
            "pop shape\n",
            "(8, 11136)\n",
            "looping berapa kali\n",
            "4\n",
            "parent shape\n",
            "(4, 11136)\n"
          ]
        },
        {
          "output_type": "stream",
          "name": "stderr",
          "text": [
            "\r 70%|███████   | 14/20 [00:51<00:21,  3.57s/it]"
          ]
        },
        {
          "output_type": "stream",
          "name": "stdout",
          "text": [
            "pop shape\n",
            "(8, 11136)\n",
            "looping berapa kali\n",
            "4\n",
            "parent shape\n",
            "(4, 11136)\n"
          ]
        },
        {
          "output_type": "stream",
          "name": "stderr",
          "text": [
            "\r 75%|███████▌  | 15/20 [00:55<00:17,  3.50s/it]"
          ]
        },
        {
          "output_type": "stream",
          "name": "stdout",
          "text": [
            "pop shape\n",
            "(8, 11136)\n",
            "looping berapa kali\n",
            "4\n",
            "parent shape\n",
            "(4, 11136)\n"
          ]
        },
        {
          "output_type": "stream",
          "name": "stderr",
          "text": [
            "\r 80%|████████  | 16/20 [00:58<00:13,  3.46s/it]"
          ]
        },
        {
          "output_type": "stream",
          "name": "stdout",
          "text": [
            "pop shape\n",
            "(8, 11136)\n",
            "looping berapa kali\n",
            "4\n",
            "parent shape\n",
            "(4, 11136)\n"
          ]
        },
        {
          "output_type": "stream",
          "name": "stderr",
          "text": [
            "\r 85%|████████▌ | 17/20 [01:01<00:10,  3.35s/it]"
          ]
        },
        {
          "output_type": "stream",
          "name": "stdout",
          "text": [
            "pop shape\n",
            "(8, 11136)\n",
            "looping berapa kali\n",
            "4\n",
            "parent shape\n",
            "(4, 11136)\n"
          ]
        },
        {
          "output_type": "stream",
          "name": "stderr",
          "text": [
            "\r 90%|█████████ | 18/20 [01:05<00:07,  3.51s/it]"
          ]
        },
        {
          "output_type": "stream",
          "name": "stdout",
          "text": [
            "pop shape\n",
            "(8, 11136)\n",
            "looping berapa kali\n",
            "4\n",
            "parent shape\n",
            "(4, 11136)\n"
          ]
        },
        {
          "output_type": "stream",
          "name": "stderr",
          "text": [
            "\r 95%|█████████▌| 19/20 [01:09<00:03,  3.59s/it]"
          ]
        },
        {
          "output_type": "stream",
          "name": "stdout",
          "text": [
            "pop shape\n",
            "(8, 11136)\n",
            "looping berapa kali\n",
            "4\n",
            "parent shape\n",
            "(4, 11136)\n"
          ]
        },
        {
          "output_type": "stream",
          "name": "stderr",
          "text": [
            "100%|██████████| 20/20 [01:12<00:00,  3.62s/it]"
          ]
        },
        {
          "output_type": "stream",
          "name": "stdout",
          "text": [
            "pop shape\n",
            "(8, 11136)\n",
            "looping berapa kali\n",
            "4\n",
            "parent shape\n",
            "(4, 11136)\n"
          ]
        },
        {
          "output_type": "stream",
          "name": "stderr",
          "text": [
            "\n"
          ]
        },
        {
          "output_type": "stream",
          "name": "stdout",
          "text": [
            "Accuracy of the best solution is :  0.6708724419141406\n"
          ]
        }
      ]
    },
    {
      "cell_type": "markdown",
      "metadata": {
        "id": "ev85oVg7T_Gx"
      },
      "source": [
        "###Plot Fitnes setiap iterasinya:"
      ]
    },
    {
      "cell_type": "code",
      "metadata": {
        "colab": {
          "base_uri": "https://localhost:8080/",
          "height": 461
        },
        "id": "HPY0WZI7-lgq",
        "outputId": "8874d914-31b1-4a46-ff4b-84cf0858e497"
      },
      "source": [
        "plt.plot(accuracies)\n",
        "plt.xlabel(\"Iteration\", fontsize=15)\n",
        "plt.ylabel(\"Fitness\", fontsize=15)\n",
        "plt.xticks(np.arange(0, num_generations+1, 100))\n",
        "plt.yticks(np.arange(0, 1, 0.1))\n",
        "plt.show()"
      ],
      "execution_count": 23,
      "outputs": [
        {
          "output_type": "display_data",
          "data": {
            "text/plain": [
              "<Figure size 640x480 with 1 Axes>"
            ],
            "image/png": "[encoded data removed]"
          },
          "metadata": {}
        }
      ]
    },
    {
      "cell_type": "markdown",
      "metadata": {
        "id": "BSJT1WYRUJM6"
      },
      "source": [
        "###Cunfusion Matrix & Classification Report:"
      ]
    },
    {
      "cell_type": "code",
      "metadata": {
        "id": "wbaqaFrSDR3L",
        "colab": {
          "base_uri": "https://localhost:8080/",
          "height": 0
        },
        "outputId": "ae098dbf-3126-455e-c2f4-47095a839b97"
      },
      "source": [
        "print(confusion_matrix(y_train,predictions))\n",
        "print(classification_report(y_train,predictions))"
      ],
      "execution_count": 24,
      "outputs": [
        {
          "output_type": "stream",
          "name": "stdout",
          "text": [
            "[[2914  451]\n",
            " [1688 1446]]\n",
            "              precision    recall  f1-score   support\n",
            "\n",
            "           0       0.63      0.87      0.73      3365\n",
            "           1       0.76      0.46      0.57      3134\n",
            "\n",
            "    accuracy                           0.67      6499\n",
            "   macro avg       0.70      0.66      0.65      6499\n",
            "weighted avg       0.70      0.67      0.66      6499\n",
            "\n"
          ]
        }
      ]
    },
    {
      "cell_type": "markdown",
      "metadata": {
        "id": "MmhlkurjUSOy"
      },
      "source": [
        "##Prediksi data test"
      ]
    },
    {
      "cell_type": "code",
      "metadata": {
        "id": "eI1ijOBcFy9n",
        "colab": {
          "base_uri": "https://localhost:8080/",
          "height": 0
        },
        "outputId": "7219b29c-d085-4160-947d-7950db065f29"
      },
      "source": [
        "#Implementasi pada data test\n",
        "weights_mat = vector_to_mat(weights_vector, weights_mat)\n",
        "best_weights = weights_mat [0, :]\n",
        "acc, predictions = predict(x_test, y_test, best_weights, sigmoid)\n",
        "print(\"Accuracy of the best solution is : \", acc)"
      ],
      "execution_count": 25,
      "outputs": [
        {
          "output_type": "stream",
          "name": "stdout",
          "text": [
            "Accuracy of the best solution is :  0.656\n"
          ]
        }
      ]
    },
    {
      "cell_type": "markdown",
      "metadata": {
        "id": "wT7TbUKAUYHh"
      },
      "source": [
        "###Cunfusion Matrix & Classification Report:"
      ]
    },
    {
      "cell_type": "code",
      "metadata": {
        "id": "EdiA6mFtHC0s",
        "colab": {
          "base_uri": "https://localhost:8080/",
          "height": 0
        },
        "outputId": "ed59edb0-b1f1-4580-f3aa-d832b0703e5f"
      },
      "source": [
        "print(confusion_matrix(y_test,predictions))\n",
        "print(classification_report(y_test,predictions))"
      ],
      "execution_count": 26,
      "outputs": [
        {
          "output_type": "stream",
          "name": "stdout",
          "text": [
            "[[710 133]\n",
            " [426 356]]\n",
            "              precision    recall  f1-score   support\n",
            "\n",
            "           0       0.62      0.84      0.72       843\n",
            "           1       0.73      0.46      0.56       782\n",
            "\n",
            "    accuracy                           0.66      1625\n",
            "   macro avg       0.68      0.65      0.64      1625\n",
            "weighted avg       0.67      0.66      0.64      1625\n",
            "\n"
          ]
        }
      ]
    }
  ]
}